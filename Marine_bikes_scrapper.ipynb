{
  "nbformat": 4,
  "nbformat_minor": 0,
  "metadata": {
    "colab": {
      "provenance": [],
      "collapsed_sections": [],
      "authorship_tag": "ABX9TyNHLbtIAbsQTSyW833VTraL",
      "include_colab_link": true
    },
    "kernelspec": {
      "name": "python3",
      "display_name": "Python 3"
    },
    "language_info": {
      "name": "python"
    }
  },
  "cells": [
    {
      "cell_type": "markdown",
      "metadata": {
        "id": "view-in-github",
        "colab_type": "text"
      },
      "source": [
        "<a href=\"https://colab.research.google.com/github/dark-matter08/scrappers/blob/main/Marine_bikes_scrapper.ipynb\" target=\"_parent\"><img src=\"https://colab.research.google.com/assets/colab-badge.svg\" alt=\"Open In Colab\"/></a>"
      ]
    },
    {
      "cell_type": "code",
      "execution_count": 1,
      "metadata": {
        "id": "V41QK8BOlXDf",
        "colab": {
          "base_uri": "https://localhost:8080/"
        },
        "outputId": "e5149270-28bc-40d3-bb5c-d4f0c8f85aaf"
      },
      "outputs": [
        {
          "output_type": "stream",
          "name": "stdout",
          "text": [
            "Mounted at /content/drive\n"
          ]
        }
      ],
      "source": [
        "import requests\n",
        "from bs4 import BeautifulSoup\n",
        "import pandas as pd\n",
        "import html5lib\n",
        "from google.colab import drive\n",
        "drive.mount('/content/drive')"
      ]
    },
    {
      "cell_type": "code",
      "source": [
        "categories = [\n",
        "    {\n",
        "        'category': 'Mountain',\n",
        "        'sub_cat': [\n",
        "            {'name': 'Enduro', 'link': 'https://www.marinbikes.com/bikes/use/enduro-all-mountain'},\n",
        "            {'name': 'Trail', 'link': 'https://www.marinbikes.com/bikes/use/trail'},\n",
        "            {'name': 'XC Trail', 'link': 'https://www.marinbikes.com/bikes/use/xc-trail'},\n",
        "            {'name': 'Bikepacking/Adventure', 'link': 'https://www.marinbikes.com/bikes/use/adventure'},\n",
        "            {'name': 'Dirt Jump', 'link': 'https://www.marinbikes.com/bikes/use/dj-park'},\n",
        "            {'name': 'eMTB', 'link': 'https://www.marinbikes.com/bikes/use/emtb'},\n",
        "        ]\n",
        "    },\n",
        "    {\n",
        "        'category': 'Drop Bar',\n",
        "        'sub_cat': [\n",
        "            {'name': 'Gravel/Beyond Road', 'link': 'https://www.marinbikes.com/bikes/use/beyond-road'},\n",
        "            {'name': 'Transit/Urban', 'link': 'https://www.marinbikes.com/bikes/use/transit-urban'},\n",
        "        ]\n",
        "    },\n",
        "    {\n",
        "        'category': 'Fitness/Transit',\n",
        "        'sub_cat': [\n",
        "            {'name': 'Fitness', 'link': 'https://www.marinbikes.com/bikes/use/fitness'},\n",
        "            {'name': 'Transit/Urban', 'link': 'https://www.marinbikes.com/bikes/use/transit-urban'},\n",
        "            {'name': 'Hybrid', 'link': 'https://www.marinbikes.com/bikes/use/hybrid'},\n",
        "            {'name': 'Dual Sport', 'link': 'https://www.marinbikes.com/bikes/use/dual-sport'},\n",
        "            {'name': 'Comfort', 'link': 'https://www.marinbikes.com/bikes/use/comfort'},\n",
        "            {'name': 'Electric Assist', 'link': 'https://www.marinbikes.com/bikes/use/urban-electric'},\n",
        "        ]\n",
        "    },\n",
        "    {\n",
        "        'category': 'Youth/Kids',\n",
        "        'sub_cat': [\n",
        "            {'name': 'Full Suspension Jr.', 'link': 'https://www.marinbikes.com/bikes/use/full-suspension-jr'},\n",
        "            {'name': 'Trail 24', 'link': 'https://www.marinbikes.com/bikes/use/trail-24'},\n",
        "            {'name': 'Trail 20', 'link': 'https://www.marinbikes.com/bikes/use/trail-20'},\n",
        "            {'name': 'Donky Jr.', 'link': 'https://www.marinbikes.com/bikes/family/donky-jr'}\n",
        "        ]\n",
        "    }\n",
        "]"
      ],
      "metadata": {
        "id": "P_m8bZAMlq-_"
      },
      "execution_count": 2,
      "outputs": []
    },
    {
      "cell_type": "code",
      "source": [
        "headers = {\n",
        "    'user-agent': 'Mozilla/5.0 (X11; Linux x86_64) AppleWebKit/537.36 (KHTML, like Gecko) Chrome/103.0.0.0 Safari/537.36',\n",
        "}"
      ],
      "metadata": {
        "id": "yu_z9WSQlvre"
      },
      "execution_count": 3,
      "outputs": []
    },
    {
      "cell_type": "code",
      "source": [
        "links = []\n",
        "all_categories = []\n",
        "sub_categories = []\n",
        "\n",
        "for category in categories:\n",
        "  category_name = category['category']\n",
        "  sub_items = category['sub_cat']\n",
        "\n",
        "  for item in sub_items:\n",
        "    sub_cat_name = item['name']\n",
        "    link = item['link']\n",
        "\n",
        "    link_response = requests.get(link, headers=headers)\n",
        "    soup = BeautifulSoup(link_response.content, 'html.parser')\n",
        "    bikes = soup.find_all(\"div\", class_=\"bike-card\")\n",
        "    for bike in bikes:\n",
        "      try:\n",
        "        bike_link = bike.find('a', {'class': 'bike-card__image'})\n",
        "        bike_link = bike_link.get('href')\n",
        "        links.append(bike_link)\n",
        "        all_categories.append(category_name)\n",
        "        sub_categories.append(sub_cat_name)\n",
        "      except Exception as e:\n",
        "        print(f\"======{e}======\")\n",
        "\n",
        "    print(f\"============================================={category_name}: {sub_cat_name}=======================================================\") \n",
        "\n",
        "print(links)\n",
        "print(len(links))"
      ],
      "metadata": {
        "id": "_Q45BlGzsndr"
      },
      "execution_count": null,
      "outputs": []
    },
    {
      "cell_type": "code",
      "source": [
        "names = []\n",
        "prices = []\n",
        "description_list = []\n",
        "main_image_list = []\n",
        "image2_list = []\n",
        "overview_section_list = []\n",
        "tech_section_list = []\n",
        "specs_section_list = []\n",
        "geometry_section_list = []\n",
        "count = 1\n",
        "\n",
        "for link in links[:2]:\n",
        "  print(f\"================================== Link Count: {count}================================================\")\n",
        "  print(link)\n",
        "  link_response = requests.get(link, headers=headers)\n",
        "  link_soup = BeautifulSoup(link_response.content, 'html.parser')\n",
        "\n",
        "  image = link_soup.find('img', {'class': 'bike-2023-alpine-trail-carbon-2-photo-1'}).get('srcset')\n",
        "  main_image_list.append(image)\n",
        "\n",
        "  try:\n",
        "    image2 = link_soup.find('ul', {'class': 'gallery__media'}).find('a').get('href')\n",
        "  except Exception as e:\n",
        "    image2 = ''\n",
        "    \n",
        "  image2_list.append(image2)\n",
        "\n",
        "  name = link_soup.find('h2', {'class': 'bike-header__title'}).text.strip()\n",
        "  names.append(name)\n",
        "\n",
        "  price = link_soup.find('div', {'class': 'bike-intro__details'}).find('li').text.replace('Price:', '').replace('$', '').replace('*', '').replace(',', '').strip()\n",
        "  prices.append(price)\n",
        "\n",
        "  description = str(link_soup.find('div', {'class': 'bike-intro__description copy-block'})).replace('class=\"bike-intro__description-links\"', 'style=\"list-style-type: none; display: flex; flex-direction: column\"')\n",
        "  description_list.append(description)\n",
        "\n",
        "\n",
        "  specs = str(link_soup.find('div', {'id': 'specifications'}))\n",
        "  specs_section_list.append(specs)\n",
        "\n",
        "  geometry = str(link_soup.find('div', {'id': 'geometry'}))\n",
        "  geometry = geometry.replace('<table', '<table style=\"margin-top: 20px; width: 100%; border:1px solid black;\"')\n",
        "  geometry = geometry.replace('<td', '<td style=\"border:1px solid black; padding: 10px\"')\n",
        "  geometry = geometry.replace('<th', '<th style=\"border:1px solid black; padding: 10px\"')\n",
        "  geometry_section_list.append(geometry)\n",
        "\n",
        "  tech = str(link_soup.find('div', {'id': 'technology'}))\n",
        "  tech_section_list.append(tech)\n",
        "\n",
        "  overview = str(link_soup.find('div', {'id': 'air-charts'}))\n",
        "  overview = overview.replace('<table', '<table style=\"margin-top: 20px; width: 100%; border:1px solid black;\"')\n",
        "  overview = overview.replace('<td', '<td style=\"border:1px solid black; padding: 10px\"')\n",
        "  overview = overview.replace('<th', '<th style=\"border:1px solid black; padding: 10px\"')\n",
        "  overview_section_list.append(overview)\n",
        "\n",
        "  print(tech)\n",
        "\n",
        "  count = count + 1"
      ],
      "metadata": {
        "id": "lnVcFvaztFWN"
      },
      "execution_count": null,
      "outputs": []
    },
    {
      "cell_type": "code",
      "source": [
        "print(len(links))\n",
        "print(len(names))\n",
        "print(len(prices))\n",
        "print(len(description_list))\n",
        "print(len(main_image_list))\n",
        "print(len(image2_list))\n",
        "print(len(overview_section_list))\n",
        "print(len(tech_section_list))\n",
        "print(len(specs_section_list))\n",
        "print(len(geometry_section_list))"
      ],
      "metadata": {
        "id": "gY0ZRuVx1GRl"
      },
      "execution_count": null,
      "outputs": []
    },
    {
      "cell_type": "code",
      "source": [
        "data = {\"Link\": links, \"Name\": names, \"Category\": all_categories, \"Sub Category\": sub_categories, \"Price\": prices, \"Description\": description_list, \"Main Image\": main_image_list, \"Image 2\": image2_list,  \"Overview Section\": overview_section_list, \"Tech Section\": tech_section_list, \"Specs Section\": specs_section_list, \"Geometry Section\": geometry_section_list}\n",
        "df = pd.DataFrame(data=data)\n",
        "df.to_csv('/content/drive/MyDrive/Colab Notebooks/Scrapped Data/gtbicycles.csv')\n",
        "df"
      ],
      "metadata": {
        "id": "bCcuW58G1JP4"
      },
      "execution_count": null,
      "outputs": []
    }
  ]
}