{
  "nbformat": 4,
  "nbformat_minor": 0,
  "metadata": {
    "colab": {
      "provenance": [],
      "authorship_tag": "ABX9TyPIh8HKPExEWTy+3UXSvpnQ",
      "include_colab_link": true
    },
    "kernelspec": {
      "name": "python3",
      "display_name": "Python 3"
    },
    "language_info": {
      "name": "python"
    }
  },
  "cells": [
    {
      "cell_type": "markdown",
      "metadata": {
        "id": "view-in-github",
        "colab_type": "text"
      },
      "source": [
        "<a href=\"https://colab.research.google.com/github/dark-matter08/scrappers/blob/main/Canondale_bikes_scrapper.ipynb\" target=\"_parent\"><img src=\"https://colab.research.google.com/assets/colab-badge.svg\" alt=\"Open In Colab\"/></a>"
      ]
    },
    {
      "cell_type": "code",
      "execution_count": null,
      "metadata": {
        "id": "Sys5aof_LBML"
      },
      "outputs": [],
      "source": [
        "import requests\n",
        "from bs4 import BeautifulSoup\n",
        "import pandas as pd\n",
        "import html5lib\n",
        "from google.colab import drive\n",
        "drive.mount('/content/drive')"
      ]
    },
    {
      "cell_type": "code",
      "source": [
        "categories = [\n",
        "    {\n",
        "        'category': 'Road',\n",
        "        'sub_cat': [\n",
        "            {'name': 'Race', 'link': 'https://www.cannondale.com/en-us/bikes/road/race?priceMin=1010&priceMax=13050'},\n",
        "            {'name': 'Edurance', 'link': 'https://www.cannondale.com/en-us/bikes/road/endurance?priceMin=1325&priceMax=9050'},\n",
        "            {'name': 'Gravel', 'link': 'https://www.cannondale.com/en-us/bikes/road/gravel?priceMin=1325&priceMax=10000'},\n",
        "            {'name': 'Cyclocross', 'link': 'https://www.cannondale.com/en-us/bikes/road/cyclocross?priceMin=1875&priceMax=7050'},\n",
        "            {'name': 'Electric', 'link': 'https://www.cannondale.com/en-us/bikes/electric/e-road?priceMin=3625&priceMax=10000'},\n",
        "        ]\n",
        "    },\n",
        "    {\n",
        "        'category': 'Mountain',\n",
        "        'sub_cat': [\n",
        "            {'name': 'Cross Country', 'link': 'https://www.cannondale.com/en-us/bikes/mountain/cross-country?priceMin=2225&priceMax=13000'},\n",
        "            {'name': 'Trail', 'link': 'https://www.cannondale.com/en-us/bikes/mountain/trail-bikes?priceMin=645&priceMax=8300'},\n",
        "            {'name': 'Mountain E-Bikes', 'link': 'https://www.cannondale.com/en-us/bikes/electric/e-mountain?priceMin=4550&priceMax=8650'},\n",
        "        ]\n",
        "    },\n",
        "    {\n",
        "        'category': 'Active',\n",
        "        'sub_cat': [\n",
        "            {'name': 'Fitness', 'link': 'https://www.cannondale.com/en-us/bikes/active/fitness?priceMin=543&priceMax=2975'},\n",
        "            {'name': 'Urban', 'link': 'https://www.cannondale.com/en-us/bikes/active/urban?priceMin=1275&priceMax=5500'},\n",
        "            {'name': 'Fitness E-Bikes', 'link': 'https://www.cannondale.com/en-us/bikes/electric/e-fitness?priceMin=1925&priceMax=2975'}\n",
        "            {'name': 'Touring E-Bikes', 'link': 'https://www.cannondale.com/en-us/bikes/electric/e-touring?priceMin=2825&priceMax=4650'}\n",
        "            {'name': 'Urban E-Bikes', 'link': 'https://www.cannondale.com/en-us/bikes/electric/e-urban?priceMin=2875&priceMax=5500'}\n",
        "        ]\n",
        "    },\n",
        "    {\n",
        "        'category': 'Kids',\n",
        "        'sub_cat': [\n",
        "            {'name': 'Ages 1-4 (12\" wheel)', 'link': 'https://www.cannondale.com/en-us/bikes/kids/1-to-4?priceMin=195&priceMax=315'},\n",
        "            {'name': 'Ages 4-6 (16\" wheel)', 'link': 'https://www.cannondale.com/en-us/bikes/kids/4-to-6?priceMin=280&priceMax=350'},\n",
        "            {'name': 'Ages 5-8 (20\" wheel)', 'link': 'https://www.cannondale.com/en-us/bikes/kids/5-to-8?priceMin=310&priceMax=810'},\n",
        "            {'name': 'Ages 7+ (24\"+ wheel)', 'link': 'https://www.cannondale.com/en-us/bikes/kids/7-to-12?priceMin=415&priceMax=840'}\n",
        "        ]\n",
        "    }\n",
        "]"
      ],
      "metadata": {
        "id": "QwQYUaPALUsv"
      },
      "execution_count": null,
      "outputs": []
    },
    {
      "cell_type": "code",
      "source": [
        "headers = {\n",
        "    'user-agent': 'Mozilla/5.0 (X11; Linux x86_64) AppleWebKit/537.36 (KHTML, like Gecko) Chrome/103.0.0.0 Safari/537.36',\n",
        "}"
      ],
      "metadata": {
        "id": "1fdXz1YeLYbp"
      },
      "execution_count": null,
      "outputs": []
    },
    {
      "cell_type": "code",
      "source": [
        "links = []\n",
        "all_categories = []\n",
        "sub_categories = []\n",
        "\n",
        "for category in categories:\n",
        "  category_name = category['category']\n",
        "  sub_items = category['sub_cat']\n",
        "\n",
        "  for item in sub_items:\n",
        "    sub_cat_name = item['name']\n",
        "    link = item['link']\n",
        "\n",
        "    link_response = requests.get(link, headers=headers)\n",
        "    soup = BeautifulSoup(link_response.content, 'html.parser')\n",
        "    bikes = soup.find_all(\"div\", class_=\"product-card__upper\")\n",
        "    for bike in bikes:\n",
        "      try:\n",
        "        bike_link = bike.find('a', {'class': 'content product product-card__link'})\n",
        "        bike_link = bike.get('href')\n",
        "        links.append(bike_link)\n",
        "        all_categories.append(category_name)\n",
        "        sub_categories.append(sub_cat_name)\n",
        "      except Exception as e:\n",
        "        print(f\"======{e}======\")\n",
        "\n",
        "    print(f\"============================================={category_name}: {sub_cat_name}=======================================================\") \n",
        "\n",
        "print(links)\n",
        "print(len(links))"
      ],
      "metadata": {
        "id": "G-v90VoxLaxZ"
      },
      "execution_count": null,
      "outputs": []
    }
  ]
}