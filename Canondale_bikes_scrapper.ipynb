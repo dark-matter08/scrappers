{
  "nbformat": 4,
  "nbformat_minor": 0,
  "metadata": {
    "colab": {
      "provenance": [],
      "collapsed_sections": [],
      "authorship_tag": "ABX9TyPJ3pTcUN5W1hEMc0kX/gDD",
      "include_colab_link": true
    },
    "kernelspec": {
      "name": "python3",
      "display_name": "Python 3"
    },
    "language_info": {
      "name": "python"
    }
  },
  "cells": [
    {
      "cell_type": "markdown",
      "metadata": {
        "id": "view-in-github",
        "colab_type": "text"
      },
      "source": [
        "<a href=\"https://colab.research.google.com/github/dark-matter08/scrappers/blob/main/Canondale_bikes_scrapper.ipynb\" target=\"_parent\"><img src=\"https://colab.research.google.com/assets/colab-badge.svg\" alt=\"Open In Colab\"/></a>"
      ]
    },
    {
      "cell_type": "code",
      "execution_count": 75,
      "metadata": {
        "colab": {
          "base_uri": "https://localhost:8080/"
        },
        "id": "Sys5aof_LBML",
        "outputId": "f3c82bf2-88f7-4ab7-b4f9-cf0776de7401"
      },
      "outputs": [
        {
          "output_type": "stream",
          "name": "stdout",
          "text": [
            "Drive already mounted at /content/drive; to attempt to forcibly remount, call drive.mount(\"/content/drive\", force_remount=True).\n"
          ]
        }
      ],
      "source": [
        "import requests\n",
        "from bs4 import BeautifulSoup\n",
        "import pandas as pd\n",
        "import html5lib\n",
        "from google.colab import drive\n",
        "import json\n",
        "drive.mount('/content/drive')\n",
        "from lxml import html"
      ]
    },
    {
      "cell_type": "code",
      "source": [
        "categories_url = [\n",
        "    {\n",
        "        'category': 'Road',\n",
        "        'sub_cat': [\n",
        "            {'name': 'Race', 'link': 'https://www.cannondale.com/en-us/bikes/road/race?priceMin=1010&priceMax=13050'},\n",
        "            {'name': 'Edurance', 'link': 'https://www.cannondale.com/en-us/bikes/road/endurance?priceMin=1325&priceMax=9050'},\n",
        "            {'name': 'Gravel', 'link': 'https://www.cannondale.com/en-us/bikes/road/gravel?priceMin=1325&priceMax=10000'},\n",
        "            {'name': 'Cyclocross', 'link': 'https://www.cannondale.com/en-us/bikes/road/cyclocross?priceMin=1875&priceMax=7050'},\n",
        "            {'name': 'Electric', 'link': 'https://www.cannondale.com/en-us/bikes/electric/e-road?priceMin=3625&priceMax=10000'},\n",
        "        ]\n",
        "    },\n",
        "    {\n",
        "        'category': 'Mountain',\n",
        "        'sub_cat': [\n",
        "            {'name': 'Cross Country', 'link': 'https://www.cannondale.com/en-us/bikes/mountain/cross-country?priceMin=2225&priceMax=13000'},\n",
        "            {'name': 'Trail', 'link': 'https://www.cannondale.com/en-us/bikes/mountain/trail-bikes?priceMin=645&priceMax=8300'},\n",
        "            {'name': 'Mountain E-Bikes', 'link': 'https://www.cannondale.com/en-us/bikes/electric/e-mountain?priceMin=4550&priceMax=8650'},\n",
        "        ]\n",
        "    },\n",
        "    {\n",
        "        'category': 'Active',\n",
        "        'sub_cat': [\n",
        "            {'name': 'Fitness', 'link': 'https://www.cannondale.com/en-us/bikes/active/fitness?priceMin=543&priceMax=2975'},\n",
        "            {'name': 'Urban', 'link': 'https://www.cannondale.com/en-us/bikes/active/urban?priceMin=1275&priceMax=5500'},\n",
        "            {'name': 'Fitness E-Bikes', 'link': 'https://www.cannondale.com/en-us/bikes/electric/e-fitness?priceMin=1925&priceMax=2975'},\n",
        "            {'name': 'Touring E-Bikes', 'link': 'https://www.cannondale.com/en-us/bikes/electric/e-touring?priceMin=2825&priceMax=4650'},\n",
        "            {'name': 'Urban E-Bikes', 'link': 'https://www.cannondale.com/en-us/bikes/electric/e-urban?priceMin=2875&priceMax=5500'}\n",
        "        ]\n",
        "    },\n",
        "    {\n",
        "        'category': 'Kids',\n",
        "        'sub_cat': [\n",
        "            {'name': 'Ages 1-4 (12\" wheel)', 'link': 'https://www.cannondale.com/en-us/bikes/kids/1-to-4?priceMin=195&priceMax=315'},\n",
        "            {'name': 'Ages 4-6 (16\" wheel)', 'link': 'https://www.cannondale.com/en-us/bikes/kids/4-to-6?priceMin=280&priceMax=350'},\n",
        "            {'name': 'Ages 5-8 (20\" wheel)', 'link': 'https://www.cannondale.com/en-us/bikes/kids/5-to-8?priceMin=310&priceMax=810'},\n",
        "            {'name': 'Ages 7+ (24\"+ wheel)', 'link': 'https://www.cannondale.com/en-us/bikes/kids/7-to-12?priceMin=415&priceMax=840'}\n",
        "        ]\n",
        "    }\n",
        "]"
      ],
      "metadata": {
        "id": "QwQYUaPALUsv"
      },
      "execution_count": 4,
      "outputs": []
    },
    {
      "cell_type": "code",
      "source": [
        "categories_csv = [\n",
        "    {\n",
        "        'category': 'Road',\n",
        "        'sub_cat': [\n",
        "            {'name': 'Race', 'link': '/content/drive/MyDrive/Colab Notebooks/cannondale/cannondale-race-bikes.csv'},\n",
        "            {'name': 'Edurance', 'link': '/content/drive/MyDrive/Colab Notebooks/cannondale/cannondale-race-endurance.csv'},\n",
        "            {'name': 'Gravel', 'link': '/content/drive/MyDrive/Colab Notebooks/cannondale/cannondale-road-gravel.csv'},\n",
        "            {'name': 'Cyclocross', 'link': '/content/drive/MyDrive/Colab Notebooks/cannondale/cannondale-road-cyclocross.csv'},\n",
        "            {'name': 'Electric', 'link': '/content/drive/MyDrive/Colab Notebooks/cannondale/cannondale-road-electric.csv'},\n",
        "        ]\n",
        "    },\n",
        "    {\n",
        "        'category': 'Mountain',\n",
        "        'sub_cat': [\n",
        "            {'name': 'Cross Country', 'link': '/content/drive/MyDrive/Colab Notebooks/cannondale/cannondale-mountain-cross-country.csv'},\n",
        "            {'name': 'Trail', 'link': '/content/drive/MyDrive/Colab Notebooks/cannondale/cannondale-mountain-trail.csv'},\n",
        "            {'name': 'Mountain E-Bikes', 'link': '/content/drive/MyDrive/Colab Notebooks/cannondale/cannondale-mountain-electric.csv'},\n",
        "        ]\n",
        "    },\n",
        "    {\n",
        "        'category': 'Active',\n",
        "        'sub_cat': [\n",
        "            {'name': 'Fitness', 'link': '/content/drive/MyDrive/Colab Notebooks/cannondale/cannondale-active-fitness.csv'},\n",
        "            {'name': 'Urban', 'link': '/content/drive/MyDrive/Colab Notebooks/cannondale/cannondale-active-urban.csv'},\n",
        "            {'name': 'Fitness E-Bikes', 'link': '/content/drive/MyDrive/Colab Notebooks/cannondale/cannondale-active-electric-fitness.csv'},\n",
        "            {'name': 'Touring E-Bikes', 'link': '/content/drive/MyDrive/Colab Notebooks/cannondale/cannondale-active-electric-touring.csv'},\n",
        "            {'name': 'Urban E-Bikes', 'link': '/content/drive/MyDrive/Colab Notebooks/cannondale/cannondale-active-electric-urban.csv'}\n",
        "        ]\n",
        "    },\n",
        "    {\n",
        "        'category': 'Kids',\n",
        "        'sub_cat': [\n",
        "            {'name': 'Ages 1-4 (12\" wheel)', 'link': '/content/drive/MyDrive/Colab Notebooks/cannondale/cannondale-kids-Ages-1-4.csv'},\n",
        "            {'name': 'Ages 4-6 (16\" wheel)', 'link': '/content/drive/MyDrive/Colab Notebooks/cannondale/cannondale-kids-Ages-4-6.csv'},\n",
        "            {'name': 'Ages 5-8 (20\" wheel)', 'link': '/content/drive/MyDrive/Colab Notebooks/cannondale/cannondale-kids-Ages-5-8.csv'},\n",
        "            {'name': 'Ages 7+ (24\"+ wheel)', 'link': '/content/drive/MyDrive/Colab Notebooks/cannondale/cannondale-kids-Ages-7-13.csv'}\n",
        "        ]\n",
        "    }\n",
        "]"
      ],
      "metadata": {
        "id": "LcueSCDJVVnx"
      },
      "execution_count": 21,
      "outputs": []
    },
    {
      "cell_type": "code",
      "source": [
        "headers = {\n",
        "    'user-agent': 'Mozilla/5.0 (X11; Linux x86_64) AppleWebKit/537.36 (KHTML, like Gecko) Chrome/103.0.0.0 Safari/537.36',\n",
        "}"
      ],
      "metadata": {
        "id": "1fdXz1YeLYbp"
      },
      "execution_count": 5,
      "outputs": []
    },
    {
      "cell_type": "code",
      "source": [
        "links = []\n",
        "all_categories = []\n",
        "sub_categories = []\n",
        "\n",
        "for category in categories_url:\n",
        "  category_name = category['category']\n",
        "  sub_items = category['sub_cat']\n",
        "\n",
        "  for item in sub_items:\n",
        "    sub_cat_name = item['name']\n",
        "    link = item['link']\n",
        "    print(link)\n",
        "\n",
        "    link_response = requests.get(link)\n",
        "    soup = BeautifulSoup(link_response.content, 'html.parser')\n",
        "    tree = html.fromstring(link_response.text)\n",
        "    data = tree.xpath('div')\n",
        "    bikes = soup.find_all(\"div\", class_=\"card-inner\")\n",
        "    print(bikes)\n",
        "    for bike in bikes:\n",
        "      try:\n",
        "        bike_link = bike.find('a', {'class': 'content product product-card__link'})\n",
        "        bike_link = bike.get('href')\n",
        "        links.append(bike_link)\n",
        "        all_categories.append(category_name)\n",
        "        sub_categories.append(sub_cat_name)\n",
        "      except Exception as e:\n",
        "        print(f\"======{e}======\")\n",
        "\n",
        "    print(f\"============================================={category_name}: {sub_cat_name}=======================================================\") \n",
        "\n",
        "print(links)\n",
        "print(len(links))"
      ],
      "metadata": {
        "id": "G-v90VoxLaxZ"
      },
      "execution_count": null,
      "outputs": []
    },
    {
      "cell_type": "code",
      "source": [
        "links = []\n",
        "all_categories = []\n",
        "sub_categories = []\n",
        "\n",
        "for category in categories_csv:\n",
        "  category_name = category['category']\n",
        "  sub_items = category['sub_cat']\n",
        "\n",
        "  for item in sub_items:\n",
        "    sub_cat_name = item['name']\n",
        "    csv_link = item['link']\n",
        "    data = pd.read_csv(csv_link)\n",
        "    try:\n",
        "      link_list = data['content href']\n",
        "      link_list = link_list.tolist()\n",
        "      for link in link_list:\n",
        "        links.append(link)\n",
        "      print(f\"======================{category_name}: {sub_cat_name}==========================\")\n",
        "    except Exception as e:\n",
        "      print(e)\n",
        "\n",
        "\n",
        "print(links)\n",
        "print(len(links))"
      ],
      "metadata": {
        "colab": {
          "base_uri": "https://localhost:8080/"
        },
        "id": "FZeJnAIuXXwE",
        "outputId": "4ace3f03-5d19-4e55-b0e3-bd30f9e77690"
      },
      "execution_count": 30,
      "outputs": [
        {
          "output_type": "stream",
          "name": "stdout",
          "text": [
            "======================Road: Race==========================\n",
            "======================Road: Edurance==========================\n",
            "======================Road: Gravel==========================\n",
            "======================Road: Cyclocross==========================\n",
            "======================Road: Electric==========================\n",
            "======================Mountain: Cross Country==========================\n",
            "======================Mountain: Trail==========================\n",
            "======================Mountain: Mountain E-Bikes==========================\n",
            "======================Active: Fitness==========================\n",
            "======================Active: Urban==========================\n",
            "======================Active: Fitness E-Bikes==========================\n",
            "======================Active: Touring E-Bikes==========================\n",
            "======================Active: Urban E-Bikes==========================\n",
            "======================Kids: Ages 1-4 (12\" wheel)==========================\n",
            "======================Kids: Ages 4-6 (16\" wheel)==========================\n",
            "======================Kids: Ages 5-8 (20\" wheel)==========================\n",
            "======================Kids: Ages 7+ (24\"+ wheel)==========================\n",
            "['https://www.cannondale.com/en-us/bikes/road/race/systemsix/systemsix-hi-mod-dura-ace-di2-c11131u', 'https://www.cannondale.com/en-us/bikes/road/race/supersix-evo/supersix-evo-hi-mod-disc-dura-ace-di2-c11101u', 'https://www.cannondale.com/en-us/bikes/road/race/systemsix/systemsix-hi-mod-red-etap-axs', 'https://www.cannondale.com/en-us/bikes/road/race/supersix-evo/supersix-evo-hi-mod-disc-red-etap-axs', 'https://www.cannondale.com/en-us/bikes/road/race/supersix-evo/supersix-evo-hi-mod-disc-dura-ace-di2', 'https://www.cannondale.com/en-us/bikes/electric/e-road/supersix-evo-neo/supersix-evo-neo-1', 'https://www.cannondale.com/en-us/bikes/road/race/systemsix/systemsix-hi-mod-ultegra-di2-c11231u', 'https://www.cannondale.com/en-us/bikes/road/race/supersix-evo/supersix-evo-hi-mod-disc-ultegra-di2-c11201u', 'https://www.cannondale.com/en-us/bikes/road/race/systemsix/systemsix-hi-mod-ultegra-di2', 'https://www.cannondale.com/en-us/bikes/road/race/supersix-evo/supersix-evo-hi-mod-disc-ultegra-di2', 'https://www.cannondale.com/en-us/bikes/road/race/supersix-evo/supersix-evo-carbon-disc-force-axs', 'https://www.cannondale.com/en-us/bikes/road/race/supersix-evo/supersix-evo-carbon-disc-ultegra-di2-c11331u', 'https://www.cannondale.com/en-us/bikes/road/race/supersix-evo/supersix-evo-carbon-disc-ultegra-di2-c11301u', 'https://www.cannondale.com/en-us/bikes/road/race/supersix-evo/supersix-evo-carbon-disc-ultegra-di2', 'https://www.cannondale.com/en-us/bikes/road/race/systemsix/systemsix-carbon-ultegra', 'https://www.cannondale.com/en-us/bikes/road/race/supersix-evo/supersix-evo-leichtbau-ltd-frameset', 'https://www.cannondale.com/en-us/bikes/road/race/supersix-evo/supersix-evo-carbon-disc-rival', 'https://www.cannondale.com/en-us/bikes/road/race/supersix-evo/supersix-evo-carbon-disc-ultegra', 'https://www.cannondale.com/en-us/bikes/electric/e-road/supersix-evo-neo/supersix-evo-neo-3', 'https://www.cannondale.com/en-us/bikes/road/race/caad13/caad13-disc-rival', 'https://www.cannondale.com/en-us/bikes/road/race/supersix-evo/supersix-evo-carbon-disc-105', 'https://www.cannondale.com/en-us/bikes/road/race/supersix-evo/supersix-evo-carbon-disc-womens-105', 'https://www.cannondale.com/en-us/bikes/road/race/caad13/caad13-disc-ultegra', 'https://www.cannondale.com/en-us/bikes/road/race/caad13/caad13-disc-105-c13321u', 'https://www.cannondale.com/en-us/bikes/road/race/caad13/caad13-disc-105', 'https://www.cannondale.com/en-us/bikes/road/race/caad-optimo/caad-optimo-1', 'https://www.cannondale.com/en-us/bikes/road/race/caad-optimo/caad-optimo-2', 'https://www.cannondale.com/en-us/bikes/road/race/caad-optimo/caad-optimo-3', 'https://www.cannondale.com/en-us/bikes/road/race/caad-optimo/caad-optimo-4', 'https://www.cannondale.com/en-us/bikes/road/endurance/synapse-carbon/synapse-carbon-1-rle', 'https://www.cannondale.com/en-us/bikes/road/endurance/synapse/synapse-hi-mod-grx-di2', 'https://www.cannondale.com/en-us/bikes/road/endurance/synapse-carbon/synapse-carbon-ltd-rle', 'https://www.cannondale.com/en-us/bikes/road/endurance/synapse-carbon/synapse-carbon-2-rle', 'https://www.cannondale.com/en-us/bikes/electric/e-road/synapse-neo/synapse-neo-1', 'https://www.cannondale.com/en-us/bikes/electric/e-road/synapse-neo/synapse-neo-se', 'https://www.cannondale.com/en-us/bikes/road/endurance/synapse-carbon/synapse-carbon-3-l', 'https://www.cannondale.com/en-us/bikes/road/endurance/synapse-carbon/synapse-carbon-womens-105', 'https://www.cannondale.com/en-us/bikes/road/endurance/synapse-carbon/synapse-carbon-105', 'https://www.cannondale.com/en-us/bikes/road/endurance/synapse-carbon/synapse-carbon-4', 'https://www.cannondale.com/en-us/bikes/road/endurance/synapse/synapse-105', 'https://www.cannondale.com/en-us/bikes/road/endurance/synapse/synapse-tiagra', 'https://www.cannondale.com/en-us/bikes/road/endurance/synapse/synapse-womens-sora', 'https://www.cannondale.com/en-us/bikes/electric/e-road/topstone-neo/topstone-neo-carbon-lefty-1-c62171m', 'https://www.cannondale.com/en-us/bikes/road/gravel/topstone-carbon/topstone-carbon-lefty-1', 'https://www.cannondale.com/en-us/bikes/road/gravel/topstone-carbon/topstone-carbon-1-rle', 'https://www.cannondale.com/en-us/bikes/road/gravel/topstone-carbon/topstone-carbon-1-lefty', 'https://www.cannondale.com/en-us/bikes/electric/e-road/topstone-neo/topstone-neo-carbon-2-c62271m', 'https://www.cannondale.com/en-us/bikes/electric/e-road/topstone-neo/topstone-neo-carbon-lefty-3-c62371m', 'https://www.cannondale.com/en-us/bikes/electric/e-road/topstone-neo/topstone-neo-5-smu', 'https://www.cannondale.com/en-us/bikes/road/gravel/supersix-evo-se/supersix-evo-se', 'https://www.cannondale.com/en-us/bikes/road/gravel/topstone-carbon/topstone-carbon-2', 'https://www.cannondale.com/en-us/bikes/road/gravel/topstone-carbon/topstone-carbon-lefty-3', 'https://www.cannondale.com/en-us/bikes/road/gravel/topstone-carbon/topstone-carbon-2-lefty', 'https://www.cannondale.com/en-us/bikes/road/gravel/topstone-carbon/topstone-carbon-2-l', 'https://www.cannondale.com/en-us/bikes/electric/e-road/topstone-neo/topstone-neo-sl-2-smu', 'https://www.cannondale.com/en-us/bikes/road/gravel/topstone-carbon/topstone-carbon-5', 'https://www.cannondale.com/en-us/bikes/road/gravel/topstone-carbon/topstone-carbon-105', 'https://www.cannondale.com/en-us/bikes/road/gravel/topstone-carbon/topstone-carbon-6', 'https://www.cannondale.com/en-us/bikes/road/gravel/topstone-alloy/topstone-1', 'https://www.cannondale.com/en-us/bikes/road/gravel/topstone-alloy/topstone-2-c15702u', 'https://www.cannondale.com/en-us/bikes/road/gravel/topstone-alloy/topstone-3', 'https://www.cannondale.com/en-us/bikes/road/gravel/topstone-alloy/topstone-4', 'https://www.cannondale.com/en-us/bikes/road/cyclocross/superx/superx-force-etap-axs', 'https://www.cannondale.com/en-us/bikes/road/cyclocross/superx/superx-1', 'https://www.cannondale.com/en-us/bikes/road/cyclocross/supersix-evo-cx/supersix-evo-cx', 'https://www.cannondale.com/en-us/bikes/road/cyclocross/superx/superx-2', 'https://www.cannondale.com/en-us/bikes/road/cyclocross/supersix-evo-cx/supersix-evo-cx-se-frameset-c11381u', 'https://www.cannondale.com/en-us/bikes/road/cyclocross/caadx/caadx-1', 'https://www.cannondale.com/en-us/bikes/electric/e-road/topstone-neo/topstone-neo-carbon-lefty-1-c62171m', 'https://www.cannondale.com/en-us/bikes/electric/e-road/supersix-evo-neo/supersix-evo-neo-1', 'https://www.cannondale.com/en-us/bikes/electric/e-road/topstone-neo/topstone-neo-carbon-2-c62271m', 'https://www.cannondale.com/en-us/bikes/electric/e-road/topstone-neo/topstone-neo-carbon-lefty-3-c62371m', 'https://www.cannondale.com/en-us/bikes/electric/e-road/topstone-neo/topstone-neo-5-smu', 'https://www.cannondale.com/en-us/bikes/electric/e-road/synapse-neo/synapse-neo-1', 'https://www.cannondale.com/en-us/bikes/electric/e-road/synapse-neo/synapse-neo-se', 'https://www.cannondale.com/en-us/bikes/electric/e-road/supersix-evo-neo/supersix-evo-neo-3', 'https://www.cannondale.com/en-us/bikes/electric/e-road/topstone-neo/topstone-neo-sl-2-smu', 'https://www.cannondale.com/en-us/bikes/mountain/cross-country/scalpel/scalpel-hi-mod-ultimate', 'https://www.cannondale.com/en-us/bikes/mountain/cross-country/scalpel/scalpel-hi-mod-1', 'https://www.cannondale.com/en-us/bikes/mountain/cross-country/f-si/f-si-hi-mod-1', 'https://www.cannondale.com/en-us/bikes/mountain/cross-country/scalpel/scalpel-carbon-ltd', 'https://www.cannondale.com/en-us/bikes/mountain/cross-country/scalpel/scalpel-carbon-2', 'https://www.cannondale.com/en-us/bikes/mountain/cross-country/scalpel-ht/scalpel-ht-hi-mod-1', 'https://www.cannondale.com/en-us/bikes/mountain/cross-country/scalpel/scalpel-carbon-3', 'https://www.cannondale.com/en-us/bikes/mountain/cross-country/f-si/f-si-carbon-3', 'https://www.cannondale.com/en-us/bikes/mountain/cross-country/scalpel-ht/scalpel-ht-carbon-2', 'https://www.cannondale.com/en-us/bikes/mountain/cross-country/scalpel-ht/scalpel-ht-carbon-3', 'https://www.cannondale.com/en-us/bikes/mountain/cross-country/f-si/f-si-carbon-5', 'https://www.cannondale.com/en-us/bikes/mountain/cross-country/scalpel-ht/scalpel-ht-carbon-4', 'https://www.cannondale.com/en-us/bikes/mountain/trail-bikes/scalpel-se/scalpel-carbon-se-ltd-smu', 'https://www.cannondale.com/en-us/bikes/mountain/trail-bikes/scalpel-se/scalpel-carbon-se-ltd-lefty', 'https://www.cannondale.com/en-us/bikes/mountain/trail-bikes/jekyll/jekyll-1-c21102u', 'https://www.cannondale.com/en-us/bikes/mountain/trail-bikes/scalpel-se/scalpel-carbon-se-1', 'https://www.cannondale.com/en-us/bikes/mountain/trail-bikes/habit/habit-carbon-1', 'https://www.cannondale.com/en-us/bikes/mountain/trail-bikes/jekyll/jekyll-2-c21202u', 'https://www.cannondale.com/en-us/bikes/mountain/trail-bikes/habit/habit-carbon-2', 'https://www.cannondale.com/en-us/bikes/mountain/trail-bikes/habit/habit-womens-carbon-2', 'https://www.cannondale.com/en-us/bikes/mountain/trail-bikes/scalpel-se/scalpel-carbon-womens-se', 'https://www.cannondale.com/en-us/bikes/mountain/trail-bikes/scalpel-se/scalpel-carbon-se-2-c24852u', 'https://www.cannondale.com/en-us/bikes/mountain/trail-bikes/scalpel-se/scalpel-carbon-se-2', 'https://www.cannondale.com/en-us/bikes/mountain/trail-bikes/jekyll/jekyll-carbon-frameset', 'https://www.cannondale.com/en-us/bikes/mountain/trail-bikes/habit/habit-waves', 'https://www.cannondale.com/en-us/bikes/mountain/trail-bikes/habit/habit-4', 'https://www.cannondale.com/en-us/bikes/mountain/trail-bikes/habit/habit-5', 'https://www.cannondale.com/en-us/bikes/mountain/trail-bikes/trail/trail-se-1', 'https://www.cannondale.com/en-us/bikes/mountain/trail-bikes/trail/trail-se-2', 'https://www.cannondale.com/en-us/bikes/mountain/trail-bikes/trail/trail-womens-se-3', 'https://www.cannondale.com/en-us/bikes/mountain/trail-bikes/trail/trail-se-3', 'https://www.cannondale.com/en-us/bikes/mountain/trail-bikes/dave/dave', 'https://www.cannondale.com/en-us/bikes/mountain/trail-bikes/trail/trail-womens-se-4', 'https://www.cannondale.com/en-us/bikes/mountain/trail-bikes/trail/trail-se-4', 'https://www.cannondale.com/en-us/bikes/mountain/trail-bikes/trail/trail-womens-5', 'https://www.cannondale.com/en-us/bikes/mountain/trail-bikes/trail/trail-5', 'https://www.cannondale.com/en-us/bikes/mountain/trail-bikes/trail/trail-6', 'https://www.cannondale.com/en-us/bikes/mountain/trail-bikes/trail/trail-womens-6', 'https://www.cannondale.com/en-us/bikes/mountain/trail-bikes/trail/trail-womens-7', 'https://www.cannondale.com/en-us/bikes/mountain/trail-bikes/trail/trail-7', 'https://www.cannondale.com/en-us/bikes/mountain/trail-bikes/trail/trail-womens-8', 'https://www.cannondale.com/en-us/bikes/mountain/trail-bikes/trail/trail-8', 'https://www.cannondale.com/en-us/bikes/electric/e-mountain/moterra-neo-lt/moterra-neo-carbon-lt-1-c25472u', 'https://www.cannondale.com/en-us/bikes/electric/e-mountain/moterra-neo/moterra-neo-carbon-1-c25172u', 'https://www.cannondale.com/en-us/bikes/electric/e-mountain/moterra-neo/moterra-neo-carbon-1-smu', 'https://www.cannondale.com/en-us/bikes/electric/e-mountain/moterra-neo/moterra-neo-carbon-2-smu', 'https://www.cannondale.com/en-us/bikes/electric/e-mountain/moterra-neo-lt/moterra-neo-carbon-lt-2-c25572u', 'https://www.cannondale.com/en-us/bikes/electric/e-mountain/moterra-neo/moterra-neo-carbon-2-c25272u', 'https://www.cannondale.com/en-us/bikes/electric/e-mountain/moterra-neo/moterra-neo-3-c65372u', 'https://www.cannondale.com/en-us/bikes/electric/e-mountain/moterra-neo/moterra-neo-4-c65411u', 'https://www.cannondale.com/en-us/bikes/electric/e-mountain/moterra-neo/moterra-neo-5', 'https://www.cannondale.com/en-us/bikes/electric/e-fitness/quick-neo-sl/quick-neo-sl-1-remixte', 'https://www.cannondale.com/en-us/bikes/electric/e-fitness/treadwell-neo/treadwell-neo-eq-remixte', 'https://www.cannondale.com/en-us/bikes/electric/e-fitness/treadwell-neo/treadwell-neo-eq', 'https://www.cannondale.com/en-us/bikes/electric/e-fitness/quick-neo-sl/quick-neo-sl-remixte-2', 'https://www.cannondale.com/en-us/bikes/electric/e-fitness/treadwell-neo/treadwell-neo', 'https://www.cannondale.com/en-us/bikes/electric/e-fitness/treadwell-neo/treadwell-neo-remixte', 'https://www.cannondale.com/en-us/bikes/electric/e-fitness/treadwell-neo/treadwell-neo/2020', 'https://www.cannondale.com/en-us/bikes/electric/e-fitness/treadwell-neo/treadwell-neo-2-eq', 'https://www.cannondale.com/en-us/bikes/electric/e-fitness/treadwell-neo/treadwell-neo-2-eq-remixte', 'https://www.cannondale.com/en-us/bikes/electric/e-fitness/treadwell-neo/treadwell-neo-2', 'https://www.cannondale.com/en-us/bikes/electric/e-fitness/treadwell-neo/treadwell-neo-2-remixte', 'https://www.cannondale.com/en-us/bikes/active/fitness/quick/quick-1', 'https://www.cannondale.com/en-us/bikes/active/fitness/quick/quick-womens-1', 'https://www.cannondale.com/en-us/bikes/active/fitness/quick-cx/quick-cx-1', 'https://www.cannondale.com/en-us/bikes/active/fitness/quick-cx/quick-cx-womens-1', 'https://www.cannondale.com/en-us/bikes/active/fitness/treadwell/treadwell-eq-dlx', 'https://www.cannondale.com/en-us/bikes/active/fitness/treadwell/treadwell-eq-dlx-remixte', 'https://www.cannondale.com/en-us/bikes/active/fitness/adventure/adventure-eq', 'https://www.cannondale.com/en-us/bikes/active/fitness/quick/quick-womens-2', 'https://www.cannondale.com/en-us/bikes/active/fitness/quick-cx/quick-cx-womens-2', 'https://www.cannondale.com/en-us/bikes/active/fitness/quick-cx/quick-cx-2', 'https://www.cannondale.com/en-us/bikes/active/fitness/treadwell/treadwell-eq-remixte', 'https://www.cannondale.com/en-us/bikes/active/fitness/treadwell/treadwell-eq', 'https://www.cannondale.com/en-us/bikes/active/fitness/quick/quick-3-c31301m', 'https://www.cannondale.com/en-us/bikes/active/fitness/quick/quick-womens-3-remixte', 'https://www.cannondale.com/en-us/bikes/active/fitness/quick/quick-womens-3', 'https://www.cannondale.com/en-us/bikes/active/fitness/treadwell/treadwell-2-ltd', 'https://www.cannondale.com/en-us/bikes/active/fitness/quick/quick-2', 'https://www.cannondale.com/en-us/bikes/active/fitness/quick/quick-womens-4', 'https://www.cannondale.com/en-us/bikes/active/fitness/adventure/adventure-1-c32201u', 'https://www.cannondale.com/en-us/bikes/active/fitness/treadwell/treadwell-2', 'https://www.cannondale.com/en-us/bikes/active/fitness/quick-cx/quick-cx-womens-3', 'https://www.cannondale.com/en-us/bikes/active/fitness/quick-cx/quick-cx-3', 'https://www.cannondale.com/en-us/bikes/active/fitness/treadwell/treadwell-2-remixte-ltd', 'https://www.cannondale.com/en-us/bikes/active/fitness/adventure/adventure-2-c32301u', 'https://www.cannondale.com/en-us/bikes/active/fitness/treadwell/treadwell-3', 'https://www.cannondale.com/en-us/bikes/active/fitness/treadwell/treadwell-2-remixte', 'https://www.cannondale.com/en-us/bikes/active/fitness/quick/quick-5', 'https://www.cannondale.com/en-us/bikes/active/fitness/quick-cx/quick-cx-womens-4', 'https://www.cannondale.com/en-us/bikes/active/fitness/quick/quick-womens-5-remixte', 'https://www.cannondale.com/en-us/bikes/active/fitness/quick-cx/quick-cx-4', 'https://www.cannondale.com/en-us/bikes/active/fitness/treadwell/treadwell-3-ltd', 'https://www.cannondale.com/en-us/bikes/active/fitness/treadwell/treadwell-3-remixte-ltd', 'https://www.cannondale.com/en-us/bikes/active/fitness/treadwell/treadwell-3-remixte', 'https://www.cannondale.com/en-us/bikes/active/fitness/quick/quick-womens-5-disc-remixte-smu', 'https://www.cannondale.com/en-us/bikes/active/fitness/quick/quick-6', 'https://www.cannondale.com/en-us/bikes/active/fitness/quick/quick-womens-6-remixte', 'https://www.cannondale.com/en-us/bikes/electric/e-urban/tesoro-neo-x/tesoro-neo-x-speed-c66852m', 'https://www.cannondale.com/en-us/bikes/electric/e-urban/adventure-neo/adventure-neo-1-eq', 'https://www.cannondale.com/en-us/bikes/electric/e-urban/canvas-neo/canvas-neo-remixte-1-smu', 'https://www.cannondale.com/en-us/bikes/electric/e-urban/canvas-neo/canvas-neo-1-smu', 'https://www.cannondale.com/en-us/bikes/electric/e-urban/adventure-neo/adventure-neo-2-eq', 'https://www.cannondale.com/en-us/bikes/electric/e-urban/canvas-neo/canvas-neo-remixte-2-smu', 'https://www.cannondale.com/en-us/bikes/electric/e-urban/adventure-neo/adventure-neo-3-eq', 'https://www.cannondale.com/en-us/bikes/electric/e-urban/canvas-neo/canvas-neo-2-smu', 'https://www.cannondale.com/en-us/bikes/electric/e-urban/adventure-neo/adventure-neo-4', 'https://www.cannondale.com/en-us/bikes/active/urban/bad-boy/bad-boy-1', 'https://www.cannondale.com/en-us/bikes/active/urban/bad-boy/bad-boy-2', 'https://www.cannondale.com/en-us/bikes/active/urban/bad-boy/bad-boy-3', 'https://www.cannondale.com/en-us/bikes/electric/e-fitness/quick-neo-sl/quick-neo-sl-1-remixte', 'https://www.cannondale.com/en-us/bikes/electric/e-fitness/treadwell-neo/treadwell-neo-eq-remixte', 'https://www.cannondale.com/en-us/bikes/electric/e-fitness/treadwell-neo/treadwell-neo-eq', 'https://www.cannondale.com/en-us/bikes/electric/e-fitness/quick-neo-sl/quick-neo-sl-remixte-2', 'https://www.cannondale.com/en-us/bikes/electric/e-fitness/treadwell-neo/treadwell-neo', 'https://www.cannondale.com/en-us/bikes/electric/e-fitness/treadwell-neo/treadwell-neo-remixte', 'https://www.cannondale.com/en-us/bikes/electric/e-fitness/treadwell-neo/treadwell-neo/2020', 'https://www.cannondale.com/en-us/bikes/electric/e-fitness/treadwell-neo/treadwell-neo-2-eq', 'https://www.cannondale.com/en-us/bikes/electric/e-fitness/treadwell-neo/treadwell-neo-2-eq-remixte', 'https://www.cannondale.com/en-us/bikes/electric/e-fitness/treadwell-neo/treadwell-neo-2', 'https://www.cannondale.com/en-us/bikes/electric/e-fitness/treadwell-neo/treadwell-neo-2-remixte', 'https://www.cannondale.com/en-us/bikes/electric/e-touring/tesoro-neo-x/tesoro-neo-x-1-smu', 'https://www.cannondale.com/en-us/bikes/electric/e-touring/tesoro-neo-x/tesoro-neo-x-1-remixte-smu', 'https://www.cannondale.com/en-us/bikes/electric/e-touring/tesoro-neo-x/tesoro-neo-x-2-smu', 'https://www.cannondale.com/en-us/bikes/electric/e-touring/tesoro-neo-x/tesoro-neo-x-2-remixte-smu', 'https://www.cannondale.com/en-us/bikes/electric/e-touring/tesoro-neo-x/tesoro-neo-x-3-smu', 'https://www.cannondale.com/en-us/bikes/electric/e-touring/tesoro-neo-x/tesoro-neo-x-3-remixte-smu', 'https://www.cannondale.com/en-us/bikes/electric/e-touring/tesoro-neo-sl-eq/tesoro-neo-sl-eq-remixte', 'https://www.cannondale.com/en-us/bikes/electric/e-touring/tesoro-neo-sl-eq/tesoro-neo-sl-eq', 'https://www.cannondale.com/en-us/bikes/electric/e-urban/tesoro-neo-x/tesoro-neo-x-speed-c66852m', 'https://www.cannondale.com/en-us/bikes/electric/e-urban/adventure-neo/adventure-neo-1-eq', 'https://www.cannondale.com/en-us/bikes/electric/e-urban/canvas-neo/canvas-neo-remixte-1-smu', 'https://www.cannondale.com/en-us/bikes/electric/e-urban/canvas-neo/canvas-neo-1-smu', 'https://www.cannondale.com/en-us/bikes/electric/e-urban/adventure-neo/adventure-neo-2-eq', 'https://www.cannondale.com/en-us/bikes/electric/e-urban/adventure-neo/adventure-neo-3-eq', 'https://www.cannondale.com/en-us/bikes/electric/e-urban/adventure-neo/adventure-neo-4', 'https://www.cannondale.com/en-us/bikes/kids/1-to-4/kids-trail-1-to-4/kids-trail-balance-boys', 'https://www.cannondale.com/en-us/bikes/kids/1-to-4/kids-trail-1-to-4/kids-trail-balance-girls', 'https://www.cannondale.com/en-us/bikes/kids/1-to-4/kids-trail-1-to-4/kids-trail-balance', 'https://www.cannondale.com/en-us/bikes/kids/1-to-4/kids-trail-1-to-4/kids-trail-12-girls', 'https://www.cannondale.com/en-us/bikes/kids/1-to-4/kids-trail-1-to-4/kids-trail-12-boys', 'https://www.cannondale.com/en-us/bikes/kids/1-to-4/kids-trail-1-to-4/kids-trail-12', 'https://www.cannondale.com/en-us/bikes/kids/4-to-6/kids-trail-4-to-6/kids-trail-single-speed-16-girls', 'https://www.cannondale.com/en-us/bikes/kids/4-to-6/kids-trail-4-to-6/kids-trail-single-speed-16-boys', 'https://www.cannondale.com/en-us/bikes/kids/4-to-6/kids-trail-4-to-6/kids-trail-freewheel-16-girls', 'https://www.cannondale.com/en-us/bikes/kids/4-to-6/kids-trail-4-to-6/kids-trail-freewheel-16-boys', 'https://www.cannondale.com/en-us/bikes/kids/4-to-6/kids-trail-4-to-6/kids-trail-16-single-speed-c51302u', 'https://www.cannondale.com/en-us/bikes/kids/5-to-8/kids-trail-5-to-8/kids-trail-single-speed-20-boys', 'https://www.cannondale.com/en-us/bikes/kids/5-to-8/kids-trail-5-to-8/kids-trail-freewheel-20-girls', 'https://www.cannondale.com/en-us/bikes/kids/5-to-8/kids-trail-5-to-8/kids-trail-freewheel-20-boys', 'https://www.cannondale.com/en-us/bikes/kids/5-to-8/kids-trail-5-to-8/kids-trail-single-speed-20-girls', 'https://www.cannondale.com/en-us/bikes/kids/5-to-8/kids-quick-5-to-8/kids-quick-20-girls', 'https://www.cannondale.com/en-us/bikes/kids/5-to-8/kids-quick-5-to-8/kids-quick-20-boys', 'https://www.cannondale.com/en-us/bikes/kids/5-to-8/kids-trail-5-to-8/kids-trail-20-single-speed-c51202u', 'https://www.cannondale.com/en-us/bikes/kids/5-to-8/kids-trail-5-to-8/kids-trail-20-boys', 'https://www.cannondale.com/en-us/bikes/kids/5-to-8/kids-trail-5-to-8/kids-trail-20-girls', 'https://www.cannondale.com/en-us/bikes/kids/5-to-8/kids-quick-5-to-8/kids-quick-20', 'https://www.cannondale.com/en-us/bikes/kids/5-to-8/kids-trail-5-to-8/kids-trail-20', 'https://www.cannondale.com/en-us/bikes/kids/5-to-8/kids-trail-5-to-8/kids-trail-plus-20', 'https://www.cannondale.com/en-us/bikes/kids/5-to-8/kids-cujo-5-to-8/2021kids-cujo-20/2021', 'https://www.cannondale.com/en-us/bikes/kids/5-to-8/kids-cujo-5-to-8/cujo-race-20', 'https://www.cannondale.com/en-us/bikes/kids/7-to-12/kids-quick-7-to-12/kids-quick-24-boys', 'https://www.cannondale.com/en-us/bikes/kids/7-to-12/kids-quick-7-to-12/kids-quick-24-girls', 'https://www.cannondale.com/en-us/bikes/kids/7-to-12/kids-quick-7-to-12/kids-quick-24', 'https://www.cannondale.com/en-us/bikes/kids/7-to-12/kids-trail-7-to-12/kids-trail-24-girls', 'https://www.cannondale.com/en-us/bikes/kids/7-to-12/kids-trail-7-to-12/kids-trail-24-boys', 'https://www.cannondale.com/en-us/bikes/kids/7-to-12/kids-trail-7-to-12/kids-trail-24', 'https://www.cannondale.com/en-us/bikes/kids/7-to-12/kids-cujo-7-to-12/kids-cujo-24-plus', 'https://www.cannondale.com/en-us/bikes/kids/7-to-12/kids-trail-7-to-12/kids-trail-plus-24', 'https://www.cannondale.com/en-us/bikes/kids/7-to-12/kids-trail-7-to-12/trail-26-c51101u', 'https://www.cannondale.com/en-us/bikes/kids/7-to-12/kids-cujo-7-to-12/cujo-race-24']\n",
            "248\n"
          ]
        }
      ]
    },
    {
      "cell_type": "code",
      "source": [
        "names = []\n",
        "prices = []\n",
        "description_list = []\n",
        "main_image_list = []\n",
        "image2_list = []\n",
        "overview_section_list = []\n",
        "tech_section_list = []\n",
        "specs_section_list = []\n",
        "geometry_section_list = []\n",
        "count = 1\n",
        "\n",
        "for link in links[:1]:\n",
        "  print(f\"================================== Link Count: {count}================================================\")\n",
        "  print(link)\n",
        "  link_response = requests.get(link, headers=headers)\n",
        "  link_soup = BeautifulSoup(link_response.content, 'html.parser')\n",
        "\n",
        "  name1 = str(link_soup.find('h1', {'class': 'headline bike-configuration__headline'}).find('strong', {'class': 'platform'}).text).strip()\n",
        "  name2 = str(link_soup.find('h1', {'class': 'headline bike-configuration__headline'}).text).replace(name1, '').strip()\n",
        "  name = f\"{name1} {name2}\"\n",
        "  names.append(name)\n",
        "\n",
        "  # price = str(link_soup.find('div', {'class': 'bike-configuration__price'}).text).replace(',', '').replace('$', '').strip()\n",
        "  # price = str(link_soup.find_all('script')[16].text).strip().replace('dataLayer.push({ ecommerce: null });', '')\n",
        "  # price = price.replace('dataLayer.push({', '')\n",
        "  # price = price.replace('event: \"view_item\",', '')\n",
        "\n",
        "  bike_data = link_soup.find('script', {'type':'application/ld+json'}).text\n",
        "  bike_data = json.loads(bike_data)\n",
        "\n",
        "  print(type(bike_data))\n",
        "\n",
        "  count = count + 1"
      ],
      "metadata": {
        "colab": {
          "base_uri": "https://localhost:8080/"
        },
        "id": "Tj2yO2kYbQBP",
        "outputId": "ca695ae9-247a-4ac9-cff1-a6a40486c125"
      },
      "execution_count": 76,
      "outputs": [
        {
          "output_type": "stream",
          "name": "stdout",
          "text": [
            "================================== Link Count: 1================================================\n",
            "https://www.cannondale.com/en-us/bikes/road/race/systemsix/systemsix-hi-mod-dura-ace-di2-c11131u\n",
            "<class 'dict'>\n"
          ]
        }
      ]
    }
  ]
}