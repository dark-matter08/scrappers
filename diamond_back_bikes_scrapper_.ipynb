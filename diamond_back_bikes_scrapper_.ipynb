{
  "nbformat": 4,
  "nbformat_minor": 0,
  "metadata": {
    "colab": {
      "provenance": [],
      "collapsed_sections": [],
      "authorship_tag": "ABX9TyNsHDCNN0pjoBaagk5GcK5p",
      "include_colab_link": true
    },
    "kernelspec": {
      "name": "python3",
      "display_name": "Python 3"
    },
    "language_info": {
      "name": "python"
    }
  },
  "cells": [
    {
      "cell_type": "markdown",
      "metadata": {
        "id": "view-in-github",
        "colab_type": "text"
      },
      "source": [
        "<a href=\"https://colab.research.google.com/github/dark-matter08/scrappers/blob/main/diamond_back_bikes_scrapper_.ipynb\" target=\"_parent\"><img src=\"https://colab.research.google.com/assets/colab-badge.svg\" alt=\"Open In Colab\"/></a>"
      ]
    },
    {
      "cell_type": "code",
      "execution_count": 32,
      "metadata": {
        "id": "QI8BA9FJhZsF",
        "colab": {
          "base_uri": "https://localhost:8080/"
        },
        "outputId": "3c198f30-5b6e-4483-eba4-085f651d82a3"
      },
      "outputs": [
        {
          "output_type": "stream",
          "name": "stdout",
          "text": [
            "Drive already mounted at /content/drive; to attempt to forcibly remount, call drive.mount(\"/content/drive\", force_remount=True).\n"
          ]
        }
      ],
      "source": [
        "import requests\n",
        "from bs4 import BeautifulSoup\n",
        "import pandas as pd\n",
        "import html5lib\n",
        "from google.colab import drive\n",
        "drive.mount('/content/drive')"
      ]
    },
    {
      "cell_type": "code",
      "source": [
        "categories = [\n",
        "    {\n",
        "        'category': 'Mountain Bikes',\n",
        "        'sub_cat': [\n",
        "            {'name': 'Full Suspension', 'link': 'https://www.diamondback.com/bikes/mountain-1-bikes/full-suspension-bikes'},\n",
        "            {'name': 'Hardtail', 'link': 'https://www.diamondback.com/bikes/mountain-1-bikes/hardtail-bikes'},\n",
        "            {'name': 'Kids', 'link': 'https://www.diamondback.com/bikes/mountain-1-bikes/kids-1-bikes'}\n",
        "        ]\n",
        "    },\n",
        "    {\n",
        "        'category': 'Road & Gravel',\n",
        "        'sub_cat': [\n",
        "            {'name': 'Adventure & Gravel', 'link': 'https://www.diamondback.com/bikes/road-gravel-bikes/adventure-gravel'},\n",
        "            {'name': 'City', 'link': 'https://www.diamondback.com/bikes/road-gravel-bikes/city'},\n",
        "            {'name': 'Ebike', 'link': 'https://www.diamondback.com/bikes/road-gravel-bikes/ebike'},\n",
        "            {'name': 'Kids', 'link': 'https://www.diamondback.com/road-gravel-kids-1-bikes'}\n",
        "        ]\n",
        "    },\n",
        "    {\n",
        "        'category': 'Ebikes',\n",
        "        'sub_cat': [\n",
        "            {'name': 'Ebike', 'link': 'https://www.diamondback.com/bikes/ebike-1-bikes'}\n",
        "        ]\n",
        "    }\n",
        "]"
      ],
      "metadata": {
        "id": "WT7DdduWlj0r"
      },
      "execution_count": 45,
      "outputs": []
    },
    {
      "cell_type": "code",
      "source": [
        "headers = {\n",
        "    'user-agent': 'Mozilla/5.0 (X11; Linux x86_64) AppleWebKit/537.36 (KHTML, like Gecko) Chrome/103.0.0.0 Safari/537.36',\n",
        "}"
      ],
      "metadata": {
        "id": "piOglr0coI_V"
      },
      "execution_count": 46,
      "outputs": []
    },
    {
      "cell_type": "code",
      "source": [
        "links = []\n",
        "all_categories = []\n",
        "sub_categories = []\n",
        "\n",
        "for category in categories:\n",
        "  category_name = category['category']\n",
        "  sub_items = category['sub_cat']\n",
        "\n",
        "  for item in sub_items:\n",
        "    sub_cat_name = item['name']\n",
        "    link = item['link']\n",
        "\n",
        "    link_response = requests.get(link, headers=headers)\n",
        "    soup = BeautifulSoup(link_response.content, 'html.parser')\n",
        "    bikes = soup.find_all(\"li\", class_=\"item product product-item\")\n",
        "    for bike in bikes:\n",
        "      try:\n",
        "        bike_link = bike.find('a', {'class': 'product photo product-item-photo'})\n",
        "        bike_link = bike_link.get('href')\n",
        "        links.append(bike_link)\n",
        "        all_categories.append(category_name)\n",
        "        sub_categories.append(sub_cat_name)\n",
        "      except Exception as e:\n",
        "        print(f\"======{e}======\")\n",
        "\n",
        "    print(f\"============================================={sub_cat_name}=======================================================\") \n",
        "\n",
        "print(links)\n",
        "print(len(links))"
      ],
      "metadata": {
        "id": "ugNsd8J0lIyY",
        "colab": {
          "base_uri": "https://localhost:8080/"
        },
        "outputId": "a9fdc278-a7df-4af5-8f53-9b6b05a048fc"
      },
      "execution_count": 48,
      "outputs": [
        {
          "output_type": "stream",
          "name": "stdout",
          "text": [
            "=============================================Full Suspension=======================================================\n",
            "=============================================Hardtail=======================================================\n",
            "=============================================Kids=======================================================\n",
            "=============================================Adventure & Gravel=======================================================\n",
            "=============================================City=======================================================\n",
            "=============================================Ebike=======================================================\n",
            "=============================================Kids=======================================================\n",
            "=============================================Ebike=======================================================\n",
            "['https://www.diamondback.com/bikes/mountain-1-bikes/full-suspension-bikes/release-5c-4679', 'https://www.diamondback.com/bikes/mountain-1-bikes/full-suspension-bikes/release-29-3-4677', 'https://www.diamondback.com/bikes/mountain-1-bikes/full-suspension-bikes/catch-2-4681', 'https://www.diamondback.com/bikes/mountain-1-bikes/full-suspension-bikes/atroz-3-4685', 'https://www.diamondback.com/bikes/mountain-1-bikes/full-suspension-bikes/atroz-2-4684', 'https://www.diamondback.com/bikes/mountain-1-bikes/full-suspension-bikes/release-4c-4678', 'https://www.diamondback.com/bikes/mountain-1-bikes/full-suspension-bikes/release-29-2-4676', 'https://www.diamondback.com/bikes/mountain-1-bikes/full-suspension-bikes/release-29-1-4675', 'https://www.diamondback.com/bikes/mountain-1-bikes/full-suspension-bikes/catch-1-4680', 'https://www.diamondback.com/bikes/mountain-1-bikes/full-suspension-bikes/atroz-1-4447', 'https://www.diamondback.com/bikes/mountain-1-bikes/full-suspension-bikes/mission-carbon-2-4683', 'https://www.diamondback.com/bikes/mountain-1-bikes/full-suspension-bikes/mission-carbon-1-4682', 'https://www.diamondback.com/bikes/mountain-1-bikes/hardtail-bikes/mason-2-d42', 'https://www.diamondback.com/bikes/mountain-1-bikes/hardtail-bikes/mason-1-4501', 'https://www.diamondback.com/bikes/mountain-1-bikes/hardtail-bikes/sync-r-4520', 'https://www.diamondback.com/bikes/mountain-1-bikes/hardtail-bikes/hatch-2-4731', 'https://www.diamondback.com/bikes/mountain-1-bikes/hardtail-bikes/overdrive-29-3-4690', 'https://www.diamondback.com/bikes/mountain-1-bikes/hardtail-bikes/overdrive-29-2-4689', 'https://www.diamondback.com/bikes/mountain-1-bikes/hardtail-bikes/overdrive-29-1-4688', 'https://www.diamondback.com/bikes/mountain-1-bikes/hardtail-bikes/lux-3-4693', 'https://www.diamondback.com/bikes/mountain-1-bikes/hardtail-bikes/lux-2-4692', 'https://www.diamondback.com/bikes/mountain-1-bikes/hardtail-bikes/lux-1-4691', 'https://www.diamondback.com/bikes/mountain-1-bikes/hardtail-bikes/lux-1-4925', 'https://www.diamondback.com/bikes/mountain-1-bikes/hardtail-bikes/hatch-3-4788', 'https://www.diamondback.com/bikes/mountain-1-bikes/hardtail-bikes/hatch-3-4732', 'https://www.diamondback.com/bikes/mountain-1-bikes/hardtail-bikes/hatch-1-4730', 'https://www.diamondback.com/bikes/mountain-1-bikes/hardtail-bikes/line-4493', 'https://www.diamondback.com/bikes/mountain-1-bikes/hardtail-bikes/hook-4485', 'https://www.diamondback.com/bikes/mountain-1-bikes/hardtail-bikes/sync-r-carbon-29-4590', 'https://www.diamondback.com/bikes/mountain-1-bikes/kids-1-bikes/lily-16-5004', 'https://www.diamondback.com/bikes/mountain-1-bikes/kids-1-bikes/lily-20-5001', 'https://www.diamondback.com/bikes/mountain-1-bikes/kids-1-bikes/lustre-20-3578', 'https://www.diamondback.com/bikes/mountain-1-bikes/kids-1-bikes/el-oso-nino-20-4739', 'https://www.diamondback.com/bikes/mountain-1-bikes/kids-1-bikes/eloso-nino20', 'https://www.diamondback.com/bikes/mountain-1-bikes/kids-1-bikes/lily-24-5002', 'https://www.diamondback.com/bikes/mountain-1-bikes/kids-1-bikes/eva-24-4998', 'https://www.diamondback.com/bikes/mountain-1-bikes/kids-1-bikes/hook-24-4774', 'https://www.diamondback.com/bikes/mountain-1-bikes/kids-1-bikes/sync-r-24-4694', 'https://www.diamondback.com/bikes/mountain-1-bikes/kids-1-bikes/line-24-4695', 'https://www.diamondback.com/bikes/road-gravel-bikes/adventure-gravel/haanjo-8c-carbon-4617', 'https://www.diamondback.com/bikes/road-gravel-bikes/adventure-gravel/haanjo-5-4478', 'https://www.diamondback.com/bikes/road-gravel-bikes/adventure-gravel/haanjo-4-4482', 'https://www.diamondback.com/bikes/road-gravel-bikes/adventure-gravel/haanjo-3-4671', 'https://www.diamondback.com/bikes/road-gravel-bikes/adventure-gravel/haanjo-2-4670', 'https://www.diamondback.com/bikes/road-gravel-bikes/adventure-gravel/haanjo-1-4669', 'https://www.diamondback.com/bikes/road-gravel-bikes/adventure-gravel/haanjo-7c-carbon-4484', 'https://www.diamondback.com/bikes/road-gravel-bikes/adventure-gravel/haanjo-6c-carbon-4477', 'https://www.diamondback.com/bikes/road-gravel-bikes/city-bikes/metric-3-4654', 'https://www.diamondback.com/bikes/road-gravel-bikes/city-bikes/metric-2-4652', 'https://www.diamondback.com/bikes/road-gravel-bikes/city-bikes/metric-1-4643', 'https://www.diamondback.com/bikes/road-gravel-bikes/city-bikes/division-2-4649', 'https://www.diamondback.com/bikes/road-gravel-bikes/city-bikes/division-1-4648', 'https://www.diamondback.com/bikes/road-gravel-bikes/ebike/union-2-4665', 'https://www.diamondback.com/bikes/road-gravel-bikes/ebike/union-1-4664', 'https://www.diamondback.com/bikes/road-gravel-bikes/ebike/response-4663', 'https://www.diamondback.com/bikes/road-gravel-bikes/ebike/current-4661', 'https://www.diamondback.com/road-gravel-kids-1-bikes/mxr-12-5003', 'https://www.diamondback.com/road-gravel-kids-1-bikes/impression', 'https://www.diamondback.com/road-gravel-kids-1-bikes/lil-impression-12-3574', 'https://www.diamondback.com/road-gravel-kids-1-bikes/jazzi-12-4999', 'https://www.diamondback.com/road-gravel-kids-1-bikes/micro-viper-12', 'https://www.diamondback.com/road-gravel-kids-1-bikes/mini-impression-16-16-red-41', 'https://www.diamondback.com/road-gravel-kids-1-bikes/mini-viper-16', 'https://www.diamondback.com/road-gravel-kids-1-bikes/db-jazzi-16-5000', 'https://www.diamondback.com/road-gravel-kids-1-bikes/jr-viper-20-3652', 'https://www.diamondback.com/road-gravel-kids-1-bikes/metric-24-4651', 'https://www.diamondback.com/road-gravel-kids-1-bikes/division-24-4650', 'https://www.diamondback.com/bikes/ebike-bikes/union-2-4665', 'https://www.diamondback.com/bikes/ebike-bikes/union-1-4664', 'https://www.diamondback.com/bikes/ebike-bikes/response-4663', 'https://www.diamondback.com/bikes/ebike-bikes/current-4661']\n",
            "71\n"
          ]
        }
      ]
    },
    {
      "cell_type": "code",
      "source": [
        "names = []\n",
        "prices = []\n",
        "short_description_list = []\n",
        "main_image_list = []\n",
        "main_video_list = []\n",
        "overview_section_list = []\n",
        "features_section_list = []\n",
        "specs_section_list = []\n",
        "count = 1\n",
        "\n",
        "for link in links[:2]:\n",
        "  print(f\"================================== Link Count: {count}================================================\")\n",
        "  print(link)\n",
        "  link_response = requests.get(link, headers=headers)\n",
        "  link_soup = BeautifulSoup(link_response.content, 'html.parser')\n",
        "\n",
        "\n",
        "  count = count + 1"
      ],
      "metadata": {
        "colab": {
          "base_uri": "https://localhost:8080/"
        },
        "id": "f6p6IofWraZr",
        "outputId": "1612eaf1-1aea-4dc3-8505-f74c452af61c"
      },
      "execution_count": 51,
      "outputs": [
        {
          "output_type": "stream",
          "name": "stdout",
          "text": [
            "================================== Link Count: 1================================================\n",
            "https://www.diamondback.com/bikes/mountain-1-bikes/full-suspension-bikes/release-5c-4679\n",
            "================================== Link Count: 2================================================\n",
            "https://www.diamondback.com/bikes/mountain-1-bikes/full-suspension-bikes/release-29-3-4677\n"
          ]
        }
      ]
    },
    {
      "cell_type": "code",
      "source": [],
      "metadata": {
        "id": "hf8MMTDpsxaM"
      },
      "execution_count": null,
      "outputs": []
    }
  ]
}