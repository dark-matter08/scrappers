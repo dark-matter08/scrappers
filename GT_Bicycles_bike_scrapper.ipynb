{
  "nbformat": 4,
  "nbformat_minor": 0,
  "metadata": {
    "colab": {
      "provenance": [],
      "collapsed_sections": [],
      "authorship_tag": "ABX9TyMzqeeFtkUVA/SLw1myX1wF",
      "include_colab_link": true
    },
    "kernelspec": {
      "name": "python3",
      "display_name": "Python 3"
    },
    "language_info": {
      "name": "python"
    }
  },
  "cells": [
    {
      "cell_type": "markdown",
      "metadata": {
        "id": "view-in-github",
        "colab_type": "text"
      },
      "source": [
        "<a href=\"https://colab.research.google.com/github/dark-matter08/scrappers/blob/main/GT_Bicycles_bike_scrapper.ipynb\" target=\"_parent\"><img src=\"https://colab.research.google.com/assets/colab-badge.svg\" alt=\"Open In Colab\"/></a>"
      ]
    },
    {
      "cell_type": "code",
      "execution_count": 2,
      "metadata": {
        "id": "Jp188_6X3CJP",
        "colab": {
          "base_uri": "https://localhost:8080/"
        },
        "outputId": "82f80308-df07-4f4a-cc2e-16113c3d1347"
      },
      "outputs": [
        {
          "output_type": "stream",
          "name": "stdout",
          "text": [
            "Mounted at /content/drive\n"
          ]
        }
      ],
      "source": [
        "import requests\n",
        "from bs4 import BeautifulSoup\n",
        "import pandas as pd\n",
        "import html5lib\n",
        "from google.colab import drive\n",
        "drive.mount('/content/drive')"
      ]
    },
    {
      "cell_type": "code",
      "source": [
        "categories = [\n",
        "    {\n",
        "        'category': 'Electric',\n",
        "        'sub_cat': [\n",
        "            {'name': 'Mountain Full Suspension', 'link': 'https://www.gtbicycles.com/usa_en/bikes/power-series/mountain-full-suspension'},\n",
        "            {'name': 'Gravel', 'link': 'https://www.gtbicycles.com/usa_en/bikes/power-series/power-series-gravel'},\n",
        "        ]\n",
        "    },\n",
        "    {\n",
        "        'category': 'BMX',\n",
        "        'sub_cat': [\n",
        "            {'name': 'Freestyle', 'link': 'https://www.gtbicycles.com/usa_en/bikes/bmx/fs?p=1'},\n",
        "            {'name': 'Freestyle', 'link': 'https://www.gtbicycles.com/usa_en/bikes/bmx/fs?p=2'},\n",
        "            {'name': 'Race', 'link': 'https://www.gtbicycles.com/usa_en/bikes/bmx/race?p=1'},\n",
        "            {'name': 'Race', 'link': 'https://www.gtbicycles.com/usa_en/bikes/bmx/race?p=2'},\n",
        "            {'name': 'Heritage', 'link': 'https://www.gtbicycles.com/usa_en/bikes/bmx/heritage?p=1'},\n",
        "            {'name': 'Heritage', 'link': 'https://www.gtbicycles.com/usa_en/bikes/bmx/heritage?p=2'},\n",
        "            {'name': 'Life+Style', 'link': 'https://www.gtbicycles.com/usa_en/bikes/bmx/life-style'}\n",
        "        ]\n",
        "    },\n",
        "    {\n",
        "        'category': 'Mountain Full Suspension',\n",
        "        'sub_cat': [\n",
        "            {'name': 'Gravity', 'link': 'https://www.gtbicycles.com/usa_en/bikes/mountain-fullsuspension/gravity'},\n",
        "            {'name': 'Enduro', 'link': 'https://www.gtbicycles.com/usa_en/bikes/mountain-fullsuspension/all-mountain'},\n",
        "            {'name': 'Trail: Sensor', 'link': 'https://www.gtbicycles.com/usa_en/bikes/mountain-fullsuspension/trail'}\n",
        "        ]\n",
        "    },\n",
        "    {\n",
        "        'category': 'Mountain Hardtail',\n",
        "        'sub_cat': [\n",
        "            {'name': 'All-New-Zaskar LT', 'link': 'https://www.gtbicycles.com/usa_en/bikes/mountain-hardtail/all-new-zaskar-lt'},\n",
        "            {'name': 'XC', 'link': 'https://www.gtbicycles.com/usa_en/bikes/mountain-hardtail/xc'},\n",
        "            {'name': 'Trail HT', 'link': 'https://www.gtbicycles.com/usa_en/bikes/mountain-hardtail/trail-ht'},\n",
        "            {'name': 'Rec HT', 'link': 'https://www.gtbicycles.com/usa_en/bikes/mountain-hardtail/rec-ht'}\n",
        "        ]\n",
        "    },\n",
        "    {\n",
        "        'category': 'Road',\n",
        "        'sub_cat': [\n",
        "            {'name': 'Gravel', 'link': 'https://www.gtbicycles.com/usa_en/bikes/road/enduroad'},\n",
        "            {'name': 'Fitnes', 'link': 'https://www.gtbicycles.com/usa_en/bikes/road/fitness-29'}\n",
        "        ]\n",
        "    },\n",
        "    {\n",
        "        'category': 'Women\\'s',\n",
        "        'sub_cat': [\n",
        "            {'name': 'Mountain', 'link': 'https://www.gtbicycles.com/usa_en/bikes/womens/mountain'}\n",
        "        ]\n",
        "    },\n",
        "    {\n",
        "        'category': 'Kids',\n",
        "        'sub_cat': [\n",
        "            {'name': 'Mountain', 'link': 'https://www.gtbicycles.com/usa_en/bikes/kids/mountain'},\n",
        "            {'name': 'Boys', 'link': 'https://www.gtbicycles.com/usa_en/bikes/kids/boys'},\n",
        "            {'name': 'Girls', 'link': 'https://www.gtbicycles.com/usa_en/bikes/kids/girls'},\n",
        "            {'name': 'Balance', 'link': 'https://www.gtbicycles.com/usa_en/bikes/kids/balance'}\n",
        "        ]\n",
        "    },\n",
        "    {\n",
        "        'category': 'Dirt Jump',\n",
        "        'sub_cat': [\n",
        "            {'name': 'La Bomba', 'link': 'https://www.gtbicycles.com/usa_en/bikes/dirtjump/la-bomba'}\n",
        "        ]\n",
        "    },\n",
        "    {\n",
        "        'category': 'Life+Style',\n",
        "        'sub_cat': [\n",
        "            {'name': 'Street Performer', 'link': 'https://www.gtbicycles.com/usa_en/bikes/life-style/street-performer'},\n",
        "            {'name': 'Power Performer', 'link': 'https://www.gtbicycles.com/usa_en/bikes/life-style/power-performer-2'}\n",
        "        ]\n",
        "    }\n",
        "]"
      ],
      "metadata": {
        "id": "SHomJ2PA3_7Z"
      },
      "execution_count": 3,
      "outputs": []
    },
    {
      "cell_type": "code",
      "source": [
        "headers = {\n",
        "    'user-agent': 'Mozilla/5.0 (X11; Linux x86_64) AppleWebKit/537.36 (KHTML, like Gecko) Chrome/103.0.0.0 Safari/537.36',\n",
        "}"
      ],
      "metadata": {
        "id": "4_phS4464CQk"
      },
      "execution_count": 4,
      "outputs": []
    },
    {
      "cell_type": "code",
      "source": [
        "links = []\n",
        "all_categories = []\n",
        "sub_categories = []\n",
        "\n",
        "for category in categories:\n",
        "  category_name = category['category']\n",
        "  sub_items = category['sub_cat']\n",
        "\n",
        "  for item in sub_items:\n",
        "    sub_cat_name = item['name']\n",
        "    link = item['link']\n",
        "\n",
        "    link_response = requests.get(link, headers=headers)\n",
        "    soup = BeautifulSoup(link_response.content, 'html.parser')\n",
        "    bikes = soup.find_all(\"div\", class_=\"product-image-container\")\n",
        "    for bike in bikes:\n",
        "      try:\n",
        "        bike_link = bike.find('a', {'class': 'product-image'})\n",
        "        bike_link = bike_link.get('href')\n",
        "        links.append(bike_link)\n",
        "        all_categories.append(category_name)\n",
        "        sub_categories.append(sub_cat_name)\n",
        "      except Exception as e:\n",
        "        print(f\"======{e}======\")\n",
        "\n",
        "    print(f\"============================================={category_name}: {sub_cat_name}=======================================================\") \n",
        "\n",
        "print(links)\n",
        "print(len(links))"
      ],
      "metadata": {
        "id": "LwKvpoUf4FHL",
        "colab": {
          "base_uri": "https://localhost:8080/"
        },
        "outputId": "cb18c81c-c91f-4748-99be-e80e5678f54b"
      },
      "execution_count": 5,
      "outputs": [
        {
          "output_type": "stream",
          "name": "stdout",
          "text": [
            "=============================================Mountain Full Suspension=======================================================\n",
            "=============================================Gravel=======================================================\n",
            "=============================================Freestyle=======================================================\n",
            "=============================================Freestyle=======================================================\n",
            "=============================================Race=======================================================\n",
            "=============================================Race=======================================================\n",
            "=============================================Heritage=======================================================\n",
            "=============================================Heritage=======================================================\n",
            "=============================================Life+Style=======================================================\n",
            "=============================================Gravity=======================================================\n",
            "=============================================Enduro=======================================================\n",
            "=============================================Trail: Sensor=======================================================\n",
            "=============================================All-New-Zaskar LT=======================================================\n",
            "=============================================XC=======================================================\n",
            "=============================================Trail HT=======================================================\n",
            "=============================================Rec HT=======================================================\n",
            "=============================================Gravel=======================================================\n",
            "=============================================Fitnes=======================================================\n",
            "=============================================Mountain=======================================================\n",
            "=============================================Mountain=======================================================\n",
            "=============================================Boys=======================================================\n",
            "=============================================Girls=======================================================\n",
            "=============================================Balance=======================================================\n",
            "=============================================La Bomba=======================================================\n",
            "=============================================Street Performer=======================================================\n",
            "=============================================Power Performer=======================================================\n",
            "['https://www.gtbicycles.com/usa_en/eforce-amp', 'https://www.gtbicycles.com/usa_en/force-gt-e-current', 'https://www.gtbicycles.com/usa_en/grade-bolt', 'https://www.gtbicycles.com/usa_en/grade-current', 'https://www.gtbicycles.com/usa_en/bk-globetrotter-frame', 'https://www.gtbicycles.com/usa_en/roskelley-team-signature', 'https://www.gtbicycles.com/usa_en/mercado-team-signature', 'https://www.gtbicycles.com/usa_en/team-conway', 'https://www.gtbicycles.com/usa_en/performer-20-5-mercado', 'https://www.gtbicycles.com/usa_en/performer-18', 'https://www.gtbicycles.com/usa_en/performer-16', 'https://www.gtbicycles.com/usa_en/performer-20-5-kachinsky', 'https://www.gtbicycles.com/usa_en/performer-21-conway', 'https://www.gtbicycles.com/usa_en/performer-1909', 'https://www.gtbicycles.com/usa_en/friend-ship', 'https://www.gtbicycles.com/usa_en/slammer-conway', 'https://www.gtbicycles.com/usa_en/slammer-mercado', 'https://www.gtbicycles.com/usa_en/slammer-kachinsky', 'https://www.gtbicycles.com/usa_en/jr-performer-327', 'https://www.gtbicycles.com/usa_en/lil-performer-168', 'https://www.gtbicycles.com/usa_en/slammer-3184', 'https://www.gtbicycles.com/usa_en/air-3178', 'https://www.gtbicycles.com/usa_en/fueler-22', 'https://www.gtbicycles.com/usa_en/speed-series-pro-3268', 'https://www.gtbicycles.com/usa_en/speed-series-pro-3271', 'https://www.gtbicycles.com/usa_en/speed-series-expert-3198', 'https://www.gtbicycles.com/usa_en/speed-series-expert-xl-3234', 'https://www.gtbicycles.com/usa_en/speed-series-junior-3235', 'https://www.gtbicycles.com/usa_en/speed-series-micro-3196', 'https://www.gtbicycles.com/usa_en/speed-series-mini-3198', 'https://www.gtbicycles.com/usa_en/mach-one-pro-3273', 'https://www.gtbicycles.com/usa_en/mach-one-pro-3272', 'https://www.gtbicycles.com/usa_en/mach-one-expert-3198', 'https://www.gtbicycles.com/usa_en/mach-one-junior-3193', 'https://www.gtbicycles.com/usa_en/mach-one-mini-3195', 'https://www.gtbicycles.com/usa_en/mach-one-16', 'https://www.gtbicycles.com/usa_en/rad-pro-series-29', 'https://www.gtbicycles.com/usa_en/pro-performer-29-super-cakeboy', 'https://www.gtbicycles.com/usa_en/pro-series-26-2022', 'https://www.gtbicycles.com/usa_en/pro-performer-20-2022', 'https://www.gtbicycles.com/usa_en/dyno-pro-compe-ltd-81', 'https://www.gtbicycles.com/usa_en/dyno-pro-compe-109', 'https://www.gtbicycles.com/usa_en/dyno-pro-compe-24', 'https://www.gtbicycles.com/usa_en/pro-series-ltd-29', 'https://www.gtbicycles.com/usa_en/pro-series-29', 'https://www.gtbicycles.com/usa_en/pro-series-26', 'https://www.gtbicycles.com/usa_en/pro-series-24', 'https://www.gtbicycles.com/usa_en/performer-29', 'https://www.gtbicycles.com/usa_en/pro-performer-2160', 'https://www.gtbicycles.com/usa_en/pro-performer-2164', 'https://www.gtbicycles.com/usa_en/pro-performer-20', 'https://www.gtbicycles.com/usa_en/street-performer-182', 'https://www.gtbicycles.com/usa_en/power-performer', 'https://www.gtbicycles.com/usa_en/fury-team', 'https://www.gtbicycles.com/usa_en/fury-pro-2182', 'https://www.gtbicycles.com/usa_en/fury-expert', 'https://www.gtbicycles.com/usa_en/force-carbon-pro-le', 'https://www.gtbicycles.com/usa_en/force-carbon-pro-3239', 'https://www.gtbicycles.com/usa_en/force-carbon-elite', 'https://www.gtbicycles.com/usa_en/force-carbon-frameset-g22182u', 'https://www.gtbicycles.com/usa_en/force-comp-3238', 'https://www.gtbicycles.com/usa_en/force-sport', 'https://www.gtbicycles.com/usa_en/force-29-expert', 'https://www.gtbicycles.com/usa_en/sensor-carbon-elite', 'https://www.gtbicycles.com/usa_en/sensor-sport', 'https://www.gtbicycles.com/usa_en/zaskar-lt-elite', 'https://www.gtbicycles.com/usa_en/zaskar-lt-expert', 'https://www.gtbicycles.com/usa_en/zaskar-lt-expert', 'https://www.gtbicycles.com/usa_en/zaskar-lt-elite', 'https://www.gtbicycles.com/usa_en/avalanche-expert', 'https://www.gtbicycles.com/usa_en/avalanche-comp-3106', 'https://www.gtbicycles.com/usa_en/avalanche-sport-3110', 'https://www.gtbicycles.com/usa_en/aggressor-expert-3105', 'https://www.gtbicycles.com/usa_en/aggressor-comp-3237', 'https://www.gtbicycles.com/usa_en/aggressor-sport-3124', 'https://www.gtbicycles.com/usa_en/palomar-al-3131', 'https://www.gtbicycles.com/usa_en/palomar-3125', 'https://www.gtbicycles.com/usa_en/palomar-ladies-3144', 'https://www.gtbicycles.com/usa_en/laguna-3138', 'https://www.gtbicycles.com/usa_en/grade-carbon-pro-2852', 'https://www.gtbicycles.com/usa_en/grade-carbon-expert-2927', 'https://www.gtbicycles.com/usa_en/grade-carbon-elite-2472', 'https://www.gtbicycles.com/usa_en/grade-expert-2780', 'https://www.gtbicycles.com/usa_en/grade-elite-2668', 'https://www.gtbicycles.com/usa_en/transeo-elite-3238', 'https://www.gtbicycles.com/usa_en/transeo-comp-3240', 'https://www.gtbicycles.com/usa_en/transeo-sport-2724', 'https://www.gtbicycles.com/usa_en/palomar-ladies-3144', 'https://www.gtbicycles.com/usa_en/laguna-3138', 'https://www.gtbicycles.com/usa_en/stomper-ace-125', 'https://www.gtbicycles.com/usa_en/stomper-prime-1023', 'https://www.gtbicycles.com/usa_en/stomper-prime-1024', 'https://www.gtbicycles.com/usa_en/stomper-prime-1026', 'https://www.gtbicycles.com/usa_en/stomper-ace-124', 'https://www.gtbicycles.com/usa_en/grunge-12', 'https://www.gtbicycles.com/usa_en/grunge-16', 'https://www.gtbicycles.com/usa_en/grunge-127', 'https://www.gtbicycles.com/usa_en/friend-ship', 'https://www.gtbicycles.com/usa_en/siren-16', 'https://www.gtbicycles.com/usa_en/siren-12', 'https://www.gtbicycles.com/usa_en/siren-133', 'https://www.gtbicycles.com/usa_en/friend-ship', 'https://www.gtbicycles.com/usa_en/vamoose-12', 'https://www.gtbicycles.com/usa_en/performer-balance-12', 'https://www.gtbicycles.com/usa_en/labomba-pro-3129', 'https://www.gtbicycles.com/usa_en/labomba-rigid', 'https://www.gtbicycles.com/usa_en/labomba-2979', 'https://www.gtbicycles.com/usa_en/street-performer-182', 'https://www.gtbicycles.com/usa_en/power-performer']\n",
            "109\n"
          ]
        }
      ]
    },
    {
      "cell_type": "code",
      "source": [
        "names = []\n",
        "prices = []\n",
        "description_list = []\n",
        "main_image_list = []\n",
        "image2_list = []\n",
        "overview_section_list = []\n",
        "tech_section_list = []\n",
        "specs_section_list = []\n",
        "geometry_section_list = []\n",
        "count = 1\n",
        "\n",
        "for link in links[:2]:\n",
        "  print(f\"================================== Link Count: {count}================================================\")\n",
        "  print(link)\n",
        "  link_response = requests.get(link, headers=headers)\n",
        "  link_soup = BeautifulSoup(link_response.content, 'html.parser')\n",
        "\n",
        "  name = link_soup.find('div', {'class': 'product-name secondary'}).find('span', {'class': 'h1'}).text\n",
        "  names.append(name)\n",
        "\n",
        "  price = link_soup.find('div', {'class': 'price-box'}).find('span', {'class': 'price'}).text.replace(',', '').replace('$', '')\n",
        "  prices.append(price)\n",
        "\n",
        "  description = link_soup.find('div', {'class': 'top-description'}).text.strip()\n",
        "  description = str(description)\n",
        "\n",
        "\n",
        "  image = link_soup.find('div', {'class': 'product-image-gallery'})\n",
        "  image1 = image.find_all('img')[0].get('src')\n",
        "  main_image_list.append(image1)\n",
        "\n",
        "  try:\n",
        "    image2 = image.find_all('img')[1].get('src')\n",
        "  except Exception as e:\n",
        "    image2 = ''\n",
        "\n",
        "  image2_list.append(image2)\n",
        "\n",
        "\n",
        "  overview_section = link_soup.find_all('div', class_ = 'tab-content')[0].find('div', {'class': 'row'})\n",
        "  overview_section = str(overview_section)\n",
        "  overview_section_list.append(overview_section)\n",
        "\n",
        "  tech_section = link_soup.find_all('div', class_ = 'tab-content')[1].find_all('div', {'class': 'tech'})\n",
        "  tech_section = str(tech_section)\n",
        "  tech_section_list.append(tech_section)\n",
        "\n",
        "  specs_section = link_soup.find_all('div', class_ = 'tab-content')[2]\n",
        "  specs_section = str(specs_section)\n",
        "  specs_section = specs_section.replace('<table', '<table style=\"margin-top: 20px; width: 100%; border:1px solid black;\"')\n",
        "  specs_section = specs_section.replace('<td', '<td style=\"border:1px solid black; padding: 10px\"')\n",
        "  specs_section = specs_section.replace('<th', '<th style=\"border:1px solid black; padding: 10px\"')\n",
        "  specs_section = specs_section.replace('class=\"label\"', 'style=\"color:black;\"')\n",
        "  specs_section_list.append(specs_section)\n",
        "\n",
        "  geometry_section = link_soup.find_all('div', class_ = 'tab-content')[3]\n",
        "  geometry_section = str(geometry_section)\n",
        "  geometry_section = geometry_section.replace('<img', '<img style=\"width: 100%; height: 100%\"')\n",
        "  geometry_section = geometry_section.replace('Geo', 'Geometry')\n",
        "  geometry_section_list.append(geometry_section)\n",
        "\n",
        "  print(geometry_section)\n",
        "\n",
        "  count = count + 1"
      ],
      "metadata": {
        "id": "CGJIJE-g-83w"
      },
      "execution_count": null,
      "outputs": []
    },
    {
      "cell_type": "code",
      "source": [
        "data = {\"Link\": links, \"Name\": names, \"Category\": all_categories, \"Sub Category\": sub_categories, \"Price\": prices, \"Description\": description_list, \"Main Image\": main_image_list, \"Image 2\": image2_list,  \"Overview Section\": overview_section_list, \"Tech Section\": tech_section_list, \"Specs Section\": specs_section_list, \"Geometry Section\": geometry_section_list}\n",
        "df = pd.DataFrame(data=data)\n",
        "df.to_csv('/content/drive/MyDrive/Colab Notebooks/Scrapped Data/gtbicycles.csv')\n",
        "df"
      ],
      "metadata": {
        "id": "ptLMa-ioHqQR"
      },
      "execution_count": null,
      "outputs": []
    }
  ]
}