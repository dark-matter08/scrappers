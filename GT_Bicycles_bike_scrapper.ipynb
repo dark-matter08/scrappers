{
  "nbformat": 4,
  "nbformat_minor": 0,
  "metadata": {
    "colab": {
      "provenance": [],
      "collapsed_sections": [],
      "authorship_tag": "ABX9TyMaeLhupAXkBzFDrdx7sx3x",
      "include_colab_link": true
    },
    "kernelspec": {
      "name": "python3",
      "display_name": "Python 3"
    },
    "language_info": {
      "name": "python"
    }
  },
  "cells": [
    {
      "cell_type": "markdown",
      "metadata": {
        "id": "view-in-github",
        "colab_type": "text"
      },
      "source": [
        "<a href=\"https://colab.research.google.com/github/dark-matter08/scrappers/blob/main/GT_Bicycles_bike_scrapper.ipynb\" target=\"_parent\"><img src=\"https://colab.research.google.com/assets/colab-badge.svg\" alt=\"Open In Colab\"/></a>"
      ]
    },
    {
      "cell_type": "code",
      "execution_count": null,
      "metadata": {
        "id": "Jp188_6X3CJP"
      },
      "outputs": [],
      "source": [
        "import requests\n",
        "from bs4 import BeautifulSoup\n",
        "import pandas as pd\n",
        "import html5lib\n",
        "from google.colab import drive\n",
        "drive.mount('/content/drive')"
      ]
    },
    {
      "cell_type": "code",
      "source": [
        "categories = [\n",
        "    {\n",
        "        'category': 'Electric',\n",
        "        'sub_cat': [\n",
        "            {'name': 'Mountain Full Suspension', 'link': 'https://www.gtbicycles.com/usa_en/bikes/power-series/mountain-full-suspension'},\n",
        "            {'name': 'Gravel', 'link': 'https://www.gtbicycles.com/usa_en/bikes/power-series/power-series-gravel'},\n",
        "        ]\n",
        "    },\n",
        "    {\n",
        "        'category': 'BMX',\n",
        "        'sub_cat': [\n",
        "            {'name': 'Freestyle', 'link': 'https://www.gtbicycles.com/usa_en/bikes/bmx/fs?p=1'},\n",
        "            {'name': 'Freestyle', 'link': 'https://www.gtbicycles.com/usa_en/bikes/bmx/fs?p=2'},\n",
        "            {'name': 'Race', 'link': 'https://www.gtbicycles.com/usa_en/bikes/bmx/race?p=1'},\n",
        "            {'name': 'Race', 'link': 'https://www.gtbicycles.com/usa_en/bikes/bmx/race?p=2'}\n",
        "            {'name': 'Heritage', 'link': 'https://www.gtbicycles.com/usa_en/bikes/bmx/heritage?p=1'}\n",
        "            {'name': 'Heritage', 'link': 'https://www.gtbicycles.com/usa_en/bikes/bmx/heritage?p=2'}\n",
        "            {'name': 'Life+Style', 'link': 'https://www.gtbicycles.com/usa_en/bikes/bmx/life-style'}\n",
        "        ]\n",
        "    },\n",
        "    {\n",
        "        'category': 'Mountain Full Suspension',\n",
        "        'sub_cat': [\n",
        "            {'name': 'Gravity', 'link': 'https://www.gtbicycles.com/usa_en/bikes/mountain-fullsuspension/gravity'}\n",
        "            {'name': 'Enduro', 'link': 'https://www.gtbicycles.com/usa_en/bikes/mountain-fullsuspension/all-mountain'}\n",
        "            {'name': 'Trail: Sensor', 'link': 'https://www.gtbicycles.com/usa_en/bikes/mountain-fullsuspension/trail'}\n",
        "        ]\n",
        "    },\n",
        "    {\n",
        "        'category': 'Mountain Hardtail',\n",
        "        'sub_cat': [\n",
        "            {'name': 'All-New-Zaskar LT', 'link': 'https://www.gtbicycles.com/usa_en/bikes/mountain-hardtail/all-new-zaskar-lt'}\n",
        "            {'name': 'XC', 'link': 'https://www.gtbicycles.com/usa_en/bikes/mountain-hardtail/xc'}\n",
        "            {'name': 'Trail HT', 'link': 'https://www.gtbicycles.com/usa_en/bikes/mountain-hardtail/trail-ht'}\n",
        "            {'name': 'Rec HT', 'link': 'https://www.gtbicycles.com/usa_en/bikes/mountain-hardtail/rec-ht'}\n",
        "        ]\n",
        "    },\n",
        "    {\n",
        "        'category': 'Road',\n",
        "        'sub_cat': [\n",
        "            {'name': 'Gravel', 'link': 'https://www.diamondback.com/bikes/ebike-1-bikes'}\n",
        "        ]\n",
        "    },\n",
        "    {\n",
        "        'category': 'Mountain Full Suspension',\n",
        "        'sub_cat': [\n",
        "            {'name': 'Ebike', 'link': 'https://www.diamondback.com/bikes/ebike-1-bikes'}\n",
        "        ]\n",
        "    }\n",
        "]"
      ],
      "metadata": {
        "id": "SHomJ2PA3_7Z"
      },
      "execution_count": null,
      "outputs": []
    },
    {
      "cell_type": "code",
      "source": [
        "headers = {\n",
        "    'user-agent': 'Mozilla/5.0 (X11; Linux x86_64) AppleWebKit/537.36 (KHTML, like Gecko) Chrome/103.0.0.0 Safari/537.36',\n",
        "}"
      ],
      "metadata": {
        "id": "4_phS4464CQk"
      },
      "execution_count": null,
      "outputs": []
    },
    {
      "cell_type": "code",
      "source": [
        "links = []\n",
        "all_categories = []\n",
        "sub_categories = []\n",
        "\n",
        "for category in categories:\n",
        "  category_name = category['category']\n",
        "  sub_items = category['sub_cat']\n",
        "\n",
        "  for item in sub_items:\n",
        "    sub_cat_name = item['name']\n",
        "    link = item['link']\n",
        "\n",
        "    link_response = requests.get(link, headers=headers)\n",
        "    soup = BeautifulSoup(link_response.content, 'html.parser')\n",
        "    bikes = soup.find_all(\"li\", class_=\"item product product-item\")\n",
        "    for bike in bikes:\n",
        "      try:\n",
        "        bike_link = bike.find('a', {'class': 'product photo product-item-photo'})\n",
        "        bike_link = bike_link.get('href')\n",
        "        links.append(bike_link)\n",
        "        all_categories.append(category_name)\n",
        "        sub_categories.append(sub_cat_name)\n",
        "      except Exception as e:\n",
        "        print(f\"======{e}======\")\n",
        "\n",
        "    print(f\"============================================={sub_cat_name}=======================================================\") \n",
        "\n",
        "print(links)\n",
        "print(len(links))"
      ],
      "metadata": {
        "id": "LwKvpoUf4FHL"
      },
      "execution_count": null,
      "outputs": []
    }
  ]
}