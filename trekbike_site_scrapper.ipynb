{
  "nbformat": 4,
  "nbformat_minor": 0,
  "metadata": {
    "colab": {
      "provenance": [],
      "collapsed_sections": [],
      "authorship_tag": "ABX9TyPGJ+QqqqGttssfqiy71D+5",
      "include_colab_link": true
    },
    "kernelspec": {
      "name": "python3",
      "display_name": "Python 3"
    },
    "language_info": {
      "name": "python"
    }
  },
  "cells": [
    {
      "cell_type": "markdown",
      "metadata": {
        "id": "view-in-github",
        "colab_type": "text"
      },
      "source": [
        "<a href=\"https://colab.research.google.com/github/dark-matter08/scrappers/blob/main/trekbike_site_scrapper.ipynb\" target=\"_parent\"><img src=\"https://colab.research.google.com/assets/colab-badge.svg\" alt=\"Open In Colab\"/></a>"
      ]
    },
    {
      "cell_type": "markdown",
      "source": [
        "Website: https://www.trekbikes.com/us/en_US/bikes/c/B100/"
      ],
      "metadata": {
        "id": "ynkR1EYSoz0-"
      }
    },
    {
      "cell_type": "code",
      "source": [
        "import requests\n",
        "from bs4 import BeautifulSoup\n",
        "import pandas as pd\n",
        "import html5lib\n",
        "from google.colab import drive\n",
        "drive.mount('/content/drive')"
      ],
      "metadata": {
        "id": "siAc4pFTo1Ye",
        "colab": {
          "base_uri": "https://localhost:8080/"
        },
        "outputId": "0417e745-3759-48a8-ed39-4bd876a2a99e"
      },
      "execution_count": null,
      "outputs": [
        {
          "output_type": "stream",
          "name": "stdout",
          "text": [
            "Mounted at /content/drive\n"
          ]
        }
      ]
    },
    {
      "cell_type": "code",
      "source": [
        "headers = {\n",
        "    'user-agent': 'Mozilla/5.0 (X11; Linux x86_64) AppleWebKit/537.36 (KHTML, like Gecko) Chrome/103.0.0.0 Safari/537.36',\n",
        "}"
      ],
      "metadata": {
        "id": "4b3KCEjzLiS7"
      },
      "execution_count": null,
      "outputs": []
    },
    {
      "cell_type": "code",
      "source": [
        "default_url = \"https://www.trekbikes.com\"\n",
        "links = []\n",
        "page_num = 0\n",
        "while page_num != 2:\n",
        "  response = requests.get(f\"https://www.trekbikes.com/us/en_US/bikes/c/B100/?q=%3Arelevance&page={page_num}&pageSize=24\", headers=headers)\n",
        "  soup = BeautifulSoup(response.content, 'html.parser')\n",
        "  bikes = soup.find_all(\"li\", class_=\"cell productListItem product-list__item\")\n",
        "  for bike in bikes:\n",
        "    try:\n",
        "      link = (bike.find(\"a\", {\"class\":\"product-tile__link\"}))\n",
        "      link = link.get('href')\n",
        "      link = default_url + link\n",
        "      links.append(link)\n",
        "    except Exception as e:\n",
        "      print(f\"======{e}======\")\n",
        "  page_num = page_num + 1 \n",
        "  print(f\"============================================={page_num}=======================================================\") \n",
        "\n",
        "print(links)\n",
        "print(len(links))"
      ],
      "metadata": {
        "id": "Y4x-IQWxpLQt",
        "colab": {
          "base_uri": "https://localhost:8080/"
        },
        "outputId": "563d9d22-231d-458e-8558-87a499001836"
      },
      "execution_count": null,
      "outputs": [
        {
          "output_type": "stream",
          "name": "stdout",
          "text": [
            "======'NoneType' object has no attribute 'get'======\n",
            "=============================================1=======================================================\n",
            "======'NoneType' object has no attribute 'get'======\n",
            "=============================================2=======================================================\n",
            "['https://www.trekbikes.com/us/en_US/bikes/mountain-bikes/electric-mountain-bikes/fuel-exe/fuel-exe-9-9-xx1-axs/p/36373/', 'https://www.trekbikes.com/us/en_US/bikes/road-bikes/performance-road-bikes/domane/domane-slr/domane-slr-9-etap-gen-4/p/37358/', 'https://www.trekbikes.com/us/en_US/bikes/road-bikes/performance-road-bikes/madone/madone-slr/madone-slr-9-etap-gen-7/p/37420/', 'https://www.trekbikes.com/us/en_US/bikes/road-bikes/performance-road-bikes/%C3%A9monda/%C3%A9monda-slr/%C3%A9monda-slr-9-etap/p/33140/', 'https://www.trekbikes.com/us/en_US/bikes/road-bikes/performance-road-bikes/domane/domane-slr/domane-slr-9/p/36742/', 'https://www.trekbikes.com/us/en_US/bikes/road-bikes/performance-road-bikes/domane/domane-slr/domane-slr-9-etap/p/36744/', 'https://www.trekbikes.com/us/en_US/bikes/mountain-bikes/electric-mountain-bikes/fuel-exe/fuel-exe-9-9-xtr/p/36371/', 'https://www.trekbikes.com/us/en_US/bikes/road-bikes/performance-road-bikes/domane/domane-slr/domane-slr-9-gen-4/p/37357/', 'https://www.trekbikes.com/us/en_US/bikes/road-bikes/performance-road-bikes/madone/madone-slr/madone-slr-9-gen-7/p/37419/', 'https://www.trekbikes.com/us/en_US/bikes/mountain-bikes/trail-mountain-bikes/slash/slash-9-9-xx1-flight-attendant/p/37060/', 'https://www.trekbikes.com/us/en_US/bikes/mountain-bikes/cross-country-mountain-bikes/supercaliber/supercaliber-9-9-xx1-axs/p/37041/', 'https://www.trekbikes.com/us/en_US/bikes/mountain-bikes/cross-country-mountain-bikes/top-fuel/top-fuel-9-9-xx1-axs/p/37070/', 'https://www.trekbikes.com/us/en_US/bikes/mountain-bikes/electric-mountain-bikes/fuel-exe/fuel-exe-9-8-gx-axs/p/36367/', 'https://www.trekbikes.com/us/en_US/bikes/mountain-bikes/trail-mountain-bikes/fuel-ex/fuel-ex-9-9-xx1-axs-gen-6/p/36956/', 'https://www.trekbikes.com/us/en_US/bikes/mountain-bikes/trail-mountain-bikes/slash/slash-9-9-xtr/p/37065/', 'https://www.trekbikes.com/us/en_US/bikes/road-bikes/performance-road-bikes/domane/domane-slr/domane-slr-7-etap/p/36740/', 'https://www.trekbikes.com/us/en_US/bikes/mountain-bikes/trail-mountain-bikes/fuel-ex/fuel-ex-9-9-xtr-gen-6/p/36954/', 'https://www.trekbikes.com/us/en_US/bikes/road-bikes/performance-road-bikes/domane/domane-slr/domane-slr-7-etap-gen-4/p/37356/', 'https://www.trekbikes.com/us/en_US/bikes/road-bikes/performance-road-bikes/madone/madone-slr/madone-slr-7-etap-gen-7/p/37418/', 'https://www.trekbikes.com/us/en_US/bikes/mountain-bikes/cross-country-mountain-bikes/supercaliber/supercaliber-9-9-xtr/p/37040/', 'https://www.trekbikes.com/us/en_US/bikes/mountain-bikes/cross-country-mountain-bikes/top-fuel/top-fuel-9-9-xtr/p/37064/', 'https://www.trekbikes.com/us/en_US/bikes/road-bikes/performance-road-bikes/%C3%A9monda/%C3%A9monda-slr/%C3%A9monda-slr-7-etap/p/33139/', 'https://www.trekbikes.com/us/en_US/bikes/road-bikes/performance-road-bikes/domane/domane-slr/domane-slr-7/p/36711/', 'https://www.trekbikes.com/us/en_US/bikes/road-bikes/performance-road-bikes/madone/madone-slr/madone-slr-7-gen-7/p/37025/', 'https://www.trekbikes.com/us/en_US/bikes/road-bikes/performance-road-bikes/domane/domane-slr/domane-slr-6-etap/p/36702/', 'https://www.trekbikes.com/us/en_US/bikes/mountain-bikes/electric-mountain-bikes/fuel-exe/fuel-exe-9-8-xt/p/36375/', 'https://www.trekbikes.com/us/en_US/bikes/road-bikes/performance-road-bikes/domane/domane-slr/domane-slr-7-gen-4/p/37059/', 'https://www.trekbikes.com/us/en_US/bikes/road-bikes/performance-road-bikes/domane/domane-slr/domane-slr-6/p/36701/', 'https://www.trekbikes.com/us/en_US/bikes/road-bikes/performance-road-bikes/madone/madone-slr/madone-slr-6-etap-gen-7/p/37417/', 'https://www.trekbikes.com/us/en_US/bikes/road-bikes/performance-road-bikes/domane/domane-slr/domane-slr-6-etap-gen-4/p/37346/', 'https://www.trekbikes.com/us/en_US/bikes/road-bikes/performance-road-bikes/madone/madone-slr/madone-slr-6-gen-7/p/37416/', 'https://www.trekbikes.com/us/en_US/bikes/road-bikes/performance-road-bikes/%C3%A9monda/%C3%A9monda-slr/%C3%A9monda-slr-6-etap/p/35022/', 'https://www.trekbikes.com/us/en_US/bikes/mountain-bikes/trail-mountain-bikes/slash/slash-9-8-gx-axs/p/37058/', 'https://www.trekbikes.com/us/en_US/bikes/road-bikes/performance-road-bikes/domane/domane-slr/domane-slr-6-gen-4/p/37344/', 'https://www.trekbikes.com/us/en_US/bikes/mountain-bikes/cross-country-mountain-bikes/supercaliber/supercaliber-9-8-gx-axs/p/37039/', 'https://www.trekbikes.com/us/en_US/bikes/mountain-bikes/trail-mountain-bikes/fuel-ex/fuel-ex-9-8-gx-axs-gen-6/p/36953/', 'https://www.trekbikes.com/us/en_US/bikes/road-bikes/performance-road-bikes/%C3%A9monda/%C3%A9monda-slr/%C3%A9monda-slr-6-di2/p/37314/', 'https://www.trekbikes.com/us/en_US/bikes/mountain-bikes/cross-country-mountain-bikes/top-fuel/top-fuel-9-8-gx-axs/p/37062/', 'https://www.trekbikes.com/us/en_US/bikes/mountain-bikes/electric-mountain-bikes/fuel-exe/fuel-exe-9-7/p/36365/', 'https://www.trekbikes.com/us/en_US/bikes/road-bikes/performance-road-bikes/domane/domane-sl/domane-sl-7-etap-gen-4/p/36155/', 'https://www.trekbikes.com/us/en_US/bikes/road-bikes/performance-road-bikes/madone/madone-sl/madone-sl-7-etap/p/36980/', 'https://www.trekbikes.com/us/en_US/bikes/mountain-bikes/trail-mountain-bikes/slash/slash-9-8-xt/p/36732/', 'https://www.trekbikes.com/us/en_US/bikes/mountain-bikes/cross-country-mountain-bikes/supercaliber/supercaliber-9-8-xt/p/37038/', 'https://www.trekbikes.com/us/en_US/bikes/mountain-bikes/downhill-mountain-bikes/session/session-9-x01/p/37057/', 'https://www.trekbikes.com/us/en_US/bikes/mountain-bikes/cross-country-mountain-bikes/top-fuel/top-fuel-9-8-xt/p/36790/', 'https://www.trekbikes.com/us/en_US/bikes/road-bikes/performance-road-bikes/domane/domane-sl/domane-sl-7-gen-4/p/36153/']\n",
            "46\n"
          ]
        }
      ]
    },
    {
      "cell_type": "code",
      "source": [
        "names = []\n",
        "categories = []\n",
        "prices = []\n",
        "short_description_list = []\n",
        "main_image_list = []\n",
        "main_video_list = []\n",
        "overview_section_list = []\n",
        "features_section_list = []\n",
        "specs_section_list = []\n",
        "count = 1\n",
        "\n",
        "for link in links[:1]:\n",
        "  print(f\"================================== Link Count: {count}================================================\")\n",
        "  print(link)\n",
        "  link_response = requests.get(link, headers=headers)\n",
        "  link_soup = BeautifulSoup(link_response.content, 'html.parser')\n",
        "\n",
        "  first_div = link_soup.find(\"div\", {\"class\":\"fcp-reveal\"})\n",
        "\n",
        "\n",
        "  # ====================================================== Actual Data ==========================================================\n",
        "  name = link_soup.find('li', {'class': 'text--bold'}).text\n",
        "  price = link_soup.find('input', {'id': 'gtm-product-display-price'}).get('value')\n",
        "  short_description = link_soup.find('pdp-buying-zone-container').get(\"copy-positioning-statement\")\n",
        "  main_image = link_soup.find('meta', {\"property\" : \"og:image\" }).get('content')\n",
        "\n",
        "  try:\n",
        "    main_video = link_soup.find('meta', {\"property\" : \"og:video\" }).get('content')\n",
        "  except Exception as e:\n",
        "    main_video = ''\n",
        "\n",
        "  try:\n",
        "    category = link.split('/')[6]\n",
        "    category = category.split('-')\n",
        "    category = ' '.join(category).capitalize()\n",
        "    category = \" \".join(word[0].upper()+word[1:] for word in category.split(\" \"))\n",
        "\n",
        "  except Exception as e:\n",
        "    category = ''\n",
        "\n",
        "  try:\n",
        "    overview_section = link_soup.find_all('section')[3].find_all('div')\n",
        "    overview_section = [str(section_single) for section_single in overview_section]\n",
        "    overview_section = ' '.join(overview_section)\n",
        "    overview_section = overview_section.replace('data-src', 'src')\n",
        "    overview_section = overview_section.replace('<i class=\"md-18 mr-1\">favorite_border</i>', '')\n",
        "    overview_section = overview_section.replace('class=\"vid-thumbnail thumb lazyload\"', 'style=\"width: 500px; height: 300; margin-right: auto; margin-left: auto;\"')\n",
        "    \n",
        "  except Exception as e:\n",
        "    overview_section = ''\n",
        "\n",
        "  try:\n",
        "    features_section = link_soup.find('section', {'class': 'productPrimaryFeaturesComponent'})\n",
        "    features_section = str(features_section)\n",
        "    features_section = features_section.replace('data-src', 'src')\n",
        "    features_section = features_section.replace('class=\"primary-feature__card sprocket__card\"', 'style=\"display: flex; flex-direction: row; margin-top: 20px\"')\n",
        "    features_section = features_section.replace('class=\"primary-feature__card__image sprocket__card__image\"', 'style=\"width: 500px; margin-right: 10px\"')\n",
        "    features_section = features_section.replace('class=\"w-full lazyload\"', 'style=\"width: 350px; height: 190px;\"')\n",
        "    \n",
        "  except Exception as e:\n",
        "    features_section = ''\n",
        "\n",
        "  try:\n",
        "    specs_section = link_soup.find_all('table')\n",
        "    specs_section = [str(section_single) for section_single in specs_section]\n",
        "    specs_section = ' '.join(specs_section)\n",
        "    specs_section = specs_section.replace('data-src', 'src')\n",
        "    specs_section = specs_section.replace('class=\"sprocket__table spec\"', 'style=\"margin-top: 20px; width: 100%; border:1px solid black;\"')\n",
        "    specs_section = specs_section.replace('style=\"vertical-align: text-bottom;\"', 'style=\"vertical-align: text-bottom; font-weight: 600; border:1px solid black; padding: 10px\"')\n",
        "    specs_section = specs_section.replace('<td', '<td style=\"border:1px solid black; padding: 10px\"')\n",
        "    specs_section = specs_section.replace('<th', '<th style=\"border:1px solid black; padding: 10px\"')\n",
        "\n",
        "  except Exception as e:\n",
        "    specs_section = ''\n",
        "\n",
        "\n",
        "  # try:\n",
        "  #   geometry_image = link_soup.find_all('template')[19]\n",
        "  #   geometry_table = link_soup.find_all('template')[20]\n",
        "  #   geometry_section = f'<div style=\"display: flex; flex-direction: row\">{geometry_image} {geometry_table}</div>'\n",
        "  #   geometry_section = geometry_section.replace('<template #geometry=\"\">', '')\n",
        "  #   geometry_section = geometry_section.replace('</template> ', '')\n",
        "  #   geometry_section = geometry_section.replace('data-src', 'src')\n",
        "  #   geometry_section = geometry_section.replace('template', 'table')\n",
        "  #   geometry_section = geometry_section.replace('class=\"sizing-table__bike-image\"', 'style=\"width: 300px\"')\n",
        "  #   geometry_section = geometry_section.replace('class=\" lazyload\"', 'style=\"width: 350px; height: 190px\"')\n",
        "  #   print((geometry_section))\n",
        "\n",
        "  # except Exception as e:\n",
        "  #   geometry_section = ''\n",
        "\n",
        "  # ============================================================ Adding Data to Lists =======================================================\n",
        "  names.append(name)\n",
        "  categories.append(category)\n",
        "  prices.append(price)\n",
        "  short_description_list.append(short_description)\n",
        "  main_image_list.append(main_image)\n",
        "  main_video_list.append(main_video)\n",
        "  overview_section_list.append(overview_section)\n",
        "  features_section_list.append(features_section)\n",
        "  specs_section_list.append(specs_section)\n",
        "  print(\"==========================================================================================================================================\")\n",
        "  count = count + 1\n"
      ],
      "metadata": {
        "id": "3pHjWmPW1tli",
        "colab": {
          "base_uri": "https://localhost:8080/"
        },
        "outputId": "c55448fd-6f19-4107-be0c-23d599716614"
      },
      "execution_count": null,
      "outputs": [
        {
          "output_type": "stream",
          "name": "stdout",
          "text": [
            "================================== Link Count: 1================================================\n",
            "https://www.trekbikes.com/us/en_US/bikes/mountain-bikes/electric-mountain-bikes/fuel-exe/fuel-exe-9-9-xx1-axs/p/36373/\n",
            "==========================================================================================================================================\n"
          ]
        }
      ]
    },
    {
      "cell_type": "code",
      "source": [
        "data = {\"Name\": names, \"Category\": categories, \"Price\": prices, \"Short Description\": short_description_list, \"Main Image\": main_image_list, \"Main Video\": main_video_list, \"Overview\": overview_section_list,\"Features\": features_section_list, \"Specs\": specs_section_list}\n",
        "df = pd.DataFrame(data=data)\n",
        "df.to_csv('/content/drive/MyDrive/Colab Notebooks/trekbikes.csv')\n",
        "df"
      ],
      "metadata": {
        "id": "5egeYYQHNgpZ"
      },
      "execution_count": null,
      "outputs": []
    }
  ]
}