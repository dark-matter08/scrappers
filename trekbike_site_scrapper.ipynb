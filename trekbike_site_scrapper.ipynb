{
  "nbformat": 4,
  "nbformat_minor": 0,
  "metadata": {
    "colab": {
      "provenance": [],
      "collapsed_sections": [],
      "authorship_tag": "ABX9TyN4U7QS8n5wLWCAVCLi+L1c",
      "include_colab_link": true
    },
    "kernelspec": {
      "name": "python3",
      "display_name": "Python 3"
    },
    "language_info": {
      "name": "python"
    }
  },
  "cells": [
    {
      "cell_type": "markdown",
      "metadata": {
        "id": "view-in-github",
        "colab_type": "text"
      },
      "source": [
        "<a href=\"https://colab.research.google.com/github/dark-matter08/scrappers/blob/main/trekbike_site_scrapper.ipynb\" target=\"_parent\"><img src=\"https://colab.research.google.com/assets/colab-badge.svg\" alt=\"Open In Colab\"/></a>"
      ]
    },
    {
      "cell_type": "markdown",
      "source": [
        "Website: https://www.trekbikes.com/us/en_US/bikes/c/B100/"
      ],
      "metadata": {
        "id": "ynkR1EYSoz0-"
      }
    },
    {
      "cell_type": "code",
      "source": [
        "import requests\n",
        "from bs4 import BeautifulSoup\n",
        "import pandas as pd\n",
        "import html5lib\n",
        "from google.colab import drive\n",
        "drive.mount('/content/drive')"
      ],
      "metadata": {
        "id": "siAc4pFTo1Ye",
        "colab": {
          "base_uri": "https://localhost:8080/"
        },
        "outputId": "a0d03bc4-f1a1-4eb2-a791-2c64bdb7dd1d"
      },
      "execution_count": 68,
      "outputs": [
        {
          "output_type": "stream",
          "name": "stdout",
          "text": [
            "Drive already mounted at /content/drive; to attempt to forcibly remount, call drive.mount(\"/content/drive\", force_remount=True).\n"
          ]
        }
      ]
    },
    {
      "cell_type": "code",
      "source": [
        "headers = {\n",
        "    'user-agent': 'Mozilla/5.0 (X11; Linux x86_64) AppleWebKit/537.36 (KHTML, like Gecko) Chrome/103.0.0.0 Safari/537.36',\n",
        "}"
      ],
      "metadata": {
        "id": "4b3KCEjzLiS7"
      },
      "execution_count": 69,
      "outputs": []
    },
    {
      "cell_type": "code",
      "source": [
        "default_url = \"https://www.trekbikes.com\"\n",
        "links = []\n",
        "page_num = 0\n",
        "while page_num != 8:\n",
        "  urls = [f'https://www.trekbikes.com/us/en_US/bikes/mountain-bikes/c/B300/?q=%3Arelevance&page={page_num}&pageSize=24',\n",
        "  f'https://www.trekbikes.com/us/en_US/bikes/road-bikes/c/B200/?q=%3Arelevance&page={page_num}&pageSize=24',\n",
        "  f'https://www.trekbikes.com/us/en_US/bikes/hybrid-bikes/c/B528/?q=%3Arelevance&page={page_num}&pageSize=24',\n",
        "  f'https://www.trekbikes.com/us/en_US/bikes/electric-bikes/c/B507/?q=%3Arelevance&page={page_num}&pageSize=24',\n",
        "  f'https://www.trekbikes.com/us/en_US/bikes/kids-bikes/c/B506/?q=%3Arelevance&page={page_num}&pageSize=24']\n",
        "\n",
        "  for url in urls:\n",
        "    response = requests.get(url, headers=headers)\n",
        "    soup = BeautifulSoup(response.content, 'html.parser')\n",
        "    bikes = soup.find_all(\"li\", class_=\"cell productListItem product-list__item\")\n",
        "    for bike in bikes:\n",
        "      try:\n",
        "        link = (bike.find(\"a\", {\"class\":\"product-tile__link\"}))\n",
        "        link = link.get('href')\n",
        "        link = default_url + link\n",
        "        links.append(link)\n",
        "      except Exception as e:\n",
        "        print(f\"======{e}======\")\n",
        "    print(f\"============================================={page_num} : {url}=======================================================\") \n",
        "  \n",
        "  page_num = page_num + 1 \n",
        "  print(f\"============================================={page_num}=======================================================\") \n",
        "\n",
        "print(links)\n",
        "print(len(links))"
      ],
      "metadata": {
        "id": "Y4x-IQWxpLQt"
      },
      "execution_count": null,
      "outputs": []
    },
    {
      "cell_type": "code",
      "source": [
        "names = []\n",
        "categories = []\n",
        "prices = []\n",
        "short_description_list = []\n",
        "main_image_list = []\n",
        "main_video_list = []\n",
        "overview_section_list = []\n",
        "features_section_list = []\n",
        "specs_section_list = []\n",
        "count = 1\n",
        "\n",
        "for link in links:\n",
        "  print(f\"================================== Link Count: {count}================================================\")\n",
        "  print(link)\n",
        "  link_response = requests.get(link, headers=headers)\n",
        "  link_soup = BeautifulSoup(link_response.content, 'html.parser')\n",
        "\n",
        "  first_div = link_soup.find(\"div\", {\"class\":\"fcp-reveal\"})\n",
        "\n",
        "\n",
        "  # ====================================================== Actual Data ==========================================================\n",
        "  name = link_soup.find('li', {'class': 'text--bold'}).text\n",
        "  price = link_soup.find('input', {'id': 'gtm-product-display-price'}).get('value')\n",
        "  short_description = link_soup.find('pdp-buying-zone-container').get(\"copy-positioning-statement\")\n",
        "  main_image = link_soup.find('meta', {\"property\" : \"og:image\" }).get('content')\n",
        "\n",
        "  try:\n",
        "    main_video = link_soup.find('meta', {\"property\" : \"og:video\" }).get('content')\n",
        "  except Exception as e:\n",
        "    main_video = ''\n",
        "\n",
        "  try:\n",
        "    category = link.split('/')[6]\n",
        "    category = category.split('-')\n",
        "    category = ' '.join(category).capitalize()\n",
        "    category = \" \".join(word[0].upper()+word[1:] for word in category.split(\" \"))\n",
        "\n",
        "  except Exception as e:\n",
        "    category = ''\n",
        "\n",
        "  try:\n",
        "    overview_section = link_soup.find_all('section')[3].find_all('div')\n",
        "    overview_section = [str(section_single) for section_single in overview_section]\n",
        "    overview_section = ' '.join(overview_section)\n",
        "    overview_section = overview_section.replace('data-src', 'src')\n",
        "    overview_section = overview_section.replace('<i class=\"md-18 mr-1\">favorite_border</i>', '')\n",
        "    overview_section = overview_section.replace('class=\"vid-thumbnail thumb lazyload\"', 'style=\"width: 500px; height: 300; margin-right: auto; margin-left: auto;\"')\n",
        "    \n",
        "  except Exception as e:\n",
        "    overview_section = ''\n",
        "\n",
        "  try:\n",
        "    features_section = link_soup.find('section', {'class': 'productPrimaryFeaturesComponent'})\n",
        "    features_section = str(features_section)\n",
        "    features_section = features_section.replace('data-src', 'src')\n",
        "    features_section = features_section.replace('class=\"primary-feature__card sprocket__card\"', 'style=\"display: flex; flex-direction: row; margin-top: 20px\"')\n",
        "    features_section = features_section.replace('class=\"primary-feature__card__image sprocket__card__image\"', 'style=\"width: 500px; margin-right: 10px\"')\n",
        "    features_section = features_section.replace('class=\"w-full lazyload\"', 'style=\"width: 350px; height: 190px;\"')\n",
        "    \n",
        "  except Exception as e:\n",
        "    features_section = ''\n",
        "\n",
        "  try:\n",
        "    specs_section = link_soup.find_all('table')\n",
        "    specs_section = [str(section_single) for section_single in specs_section]\n",
        "    specs_section = ' '.join(specs_section)\n",
        "    specs_section = specs_section.replace('data-src', 'src')\n",
        "    specs_section = specs_section.replace('class=\"sprocket__table spec\"', 'style=\"margin-top: 20px; width: 100%; border:1px solid black;\"')\n",
        "    specs_section = specs_section.replace('style=\"vertical-align: text-bottom;\"', 'style=\"vertical-align: text-bottom; font-weight: 600; border:1px solid black; padding: 10px\"')\n",
        "    specs_section = specs_section.replace('<td', '<td style=\"border:1px solid black; padding: 10px\"')\n",
        "    specs_section = specs_section.replace('<th', '<th style=\"border:1px solid black; padding: 10px\"')\n",
        "\n",
        "  except Exception as e:\n",
        "    specs_section = ''\n",
        "\n",
        "\n",
        "  # try:\n",
        "  #   geometry_image = link_soup.find_all('template')[19]\n",
        "  #   geometry_table = link_soup.find_all('template')[20]\n",
        "  #   geometry_section = f'<div style=\"display: flex; flex-direction: row\">{geometry_image} {geometry_table}</div>'\n",
        "  #   geometry_section = geometry_section.replace('<template #geometry=\"\">', '')\n",
        "  #   geometry_section = geometry_section.replace('</template> ', '')\n",
        "  #   geometry_section = geometry_section.replace('data-src', 'src')\n",
        "  #   geometry_section = geometry_section.replace('template', 'table')\n",
        "  #   geometry_section = geometry_section.replace('class=\"sizing-table__bike-image\"', 'style=\"width: 300px\"')\n",
        "  #   geometry_section = geometry_section.replace('class=\" lazyload\"', 'style=\"width: 350px; height: 190px\"')\n",
        "  #   print((geometry_section))\n",
        "\n",
        "  # except Exception as e:\n",
        "  #   geometry_section = ''\n",
        "\n",
        "  # ============================================================ Adding Data to Lists =======================================================\n",
        "  names.append(name)\n",
        "  categories.append(category)\n",
        "  prices.append(price)\n",
        "  short_description_list.append(short_description)\n",
        "  main_image_list.append(main_image)\n",
        "  main_video_list.append(main_video)\n",
        "  overview_section_list.append(overview_section)\n",
        "  features_section_list.append(features_section)\n",
        "  specs_section_list.append(specs_section)\n",
        "  print(\"==========================================================================================================================================\")\n",
        "  count = count + 1\n"
      ],
      "metadata": {
        "id": "3pHjWmPW1tli"
      },
      "execution_count": null,
      "outputs": []
    },
    {
      "cell_type": "code",
      "source": [
        "data = {\"Name\": names, \"Category\": categories, \"Price\": prices, \"Short Description\": short_description_list, \"Main Image\": main_image_list, \"Main Video\": main_video_list, \"Overview\": overview_section_list,\"Features\": features_section_list, \"Specs\": specs_section_list}\n",
        "df = pd.DataFrame(data=data)\n",
        "df.to_csv('/content/drive/MyDrive/Colab Notebooks/trekbikes.csv')\n",
        "df"
      ],
      "metadata": {
        "id": "5egeYYQHNgpZ"
      },
      "execution_count": null,
      "outputs": []
    }
  ]
}